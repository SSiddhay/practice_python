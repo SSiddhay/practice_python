{
 "cells": [
  {
   "cell_type": "code",
   "execution_count": 1,
   "id": "f85e0e93",
   "metadata": {},
   "outputs": [
    {
     "name": "stdout",
     "output_type": "stream",
     "text": [
      "enter your name : siddhay\n",
      "enter your age : 19\n",
      "enter your salary : 1000000\n",
      "Name: siddhay age: 19 salary: 1000000\n"
     ]
    }
   ],
   "source": [
    "employee_name= str(input('enter your name : ')) \n",
    "age= int(input('enter your age : '))\n",
    "salary= input('enter your salary : ') or 9000\n",
    "def show_employee(employee_name,age,salary):\n",
    "    print(\"Name:\", employee_name,\"age:\",age, \"salary:\", salary)\n",
    "show_employee(employee_name,age,salary)"
   ]
  },
  {
   "cell_type": "code",
   "execution_count": 4,
   "id": "840d54b2",
   "metadata": {},
   "outputs": [
    {
     "name": "stdout",
     "output_type": "stream",
     "text": [
      "Enter first number: 7\n",
      "Enter second number: 14\n",
      "The sum of numbers between 7 and 14 is: 84\n"
     ]
    }
   ],
   "source": [
    "def sumation(a, b):\n",
    "    if a > b:\n",
    "        return 0\n",
    "    else:\n",
    "        return a + sumation(a + 1, b)\n",
    "def sumations(a,b):\n",
    "    if a<b:\n",
    "        return 0\n",
    "    else:\n",
    "        return b + sumations(a , b + 1)\n",
    "\n",
    "a = int(input(\"Enter first number: \"))\n",
    "b = int(input(\"Enter second number: \"))\n",
    "\n",
    "if a<b:\n",
    "    result = sumation(a, b)\n",
    "elif a>b:\n",
    "    result = sumations(a, b)\n",
    "else:\n",
    "    result = a + b\n",
    "print(f\"The sum of numbers between {a} and {b} is: {result}\")"
   ]
  },
  {
   "cell_type": "code",
   "execution_count": 5,
   "id": "6310635a",
   "metadata": {},
   "outputs": [
    {
     "name": "stdout",
     "output_type": "stream",
     "text": [
      "[33, 32, 30, 28, 26, 24, 23, 22, 20]\n"
     ]
    }
   ],
   "source": [
    "import datetime\n",
    "today = datetime.date.today()\n",
    "year = today.year\n",
    "list1=[1991,1992,1994,1996,1998,2000,2001,2002,2004]\n",
    "age=list(map(lambda x:year-x,list1))\n",
    "print(age)"
   ]
  },
  {
   "cell_type": "code",
   "execution_count": 6,
   "id": "dc653d14",
   "metadata": {},
   "outputs": [
    {
     "name": "stdout",
     "output_type": "stream",
     "text": [
      "Color: White, Vehicle name: School Volvo, Speed: 180, Mileage: 12\n",
      "Color: White, Vehicle name: Audi Q5, Speed: 240, Mileage: 18\n"
     ]
    }
   ],
   "source": [
    "class Vehicle:\n",
    "    color = \"White\"\n",
    "    def __init__(self, name, speed, mileage):\n",
    "        self.name = name\n",
    "        self.speed = speed\n",
    "        self.mileage = mileage\n",
    "    def display_info(self):\n",
    "        print(f\"Color: {self.color}, Vehicle name: {self.name}, Speed: {self.speed}, Mileage: {self.mileage}\")\n",
    "\n",
    "school_bus = Vehicle(\"School Volvo\", 180, 12)\n",
    "audi_q5 = Vehicle(\"Audi Q5\", 240, 18)\n",
    "\n",
    "school_bus.display_info()\n",
    "audi_q5.display_info()"
   ]
  },
  {
   "cell_type": "code",
   "execution_count": 7,
   "id": "7765b750",
   "metadata": {},
   "outputs": [
    {
     "name": "stdout",
     "output_type": "stream",
     "text": [
      "file is empty\n"
     ]
    }
   ],
   "source": [
    "import shutil\n",
    "f=open(\"task.txt\",\"a+\")\n",
    "data=f.tell()\n",
    "if data==0:\n",
    "    print(\"file is empty\")\n",
    "else:\n",
    "    print(\"file is not empty\")\n",
    "f.close()"
   ]
  },
  {
   "cell_type": "code",
   "execution_count": 9,
   "id": "ab37b8e9",
   "metadata": {},
   "outputs": [
    {
     "name": "stdout",
     "output_type": "stream",
     "text": [
      "['4', '5', '6', '1', '2', '3', '4', '5', '6', '7', '8', '9', '0']\n"
     ]
    }
   ],
   "source": [
    "import re\n",
    "my_string = \"Hello friend 456 my contact 1234567890\"\n",
    "matches = re.findall('\\d', my_string)\n",
    "print(matches)"
   ]
  },
  {
   "cell_type": "code",
   "execution_count": null,
   "id": "5f99fa9a",
   "metadata": {},
   "outputs": [],
   "source": []
  }
 ],
 "metadata": {
  "kernelspec": {
   "display_name": "Python 3 (ipykernel)",
   "language": "python",
   "name": "python3"
  },
  "language_info": {
   "codemirror_mode": {
    "name": "ipython",
    "version": 3
   },
   "file_extension": ".py",
   "mimetype": "text/x-python",
   "name": "python",
   "nbconvert_exporter": "python",
   "pygments_lexer": "ipython3",
   "version": "3.11.5"
  }
 },
 "nbformat": 4,
 "nbformat_minor": 5
}
