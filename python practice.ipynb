{
 "cells": [
  {
   "cell_type": "code",
   "execution_count": 2,
   "id": "e440239e",
   "metadata": {},
   "outputs": [
    {
     "name": "stdout",
     "output_type": "stream",
     "text": [
      "siddhay <class 'str'> shetye <class 'str'>\n"
     ]
    }
   ],
   "source": [
    "first_name='siddhay'\n",
    "last_name=\"shetye\"\n",
    "print(first_name,type(first_name),last_name,type(last_name))"
   ]
  },
  {
   "cell_type": "code",
   "execution_count": 35,
   "id": "5dc5eb6d",
   "metadata": {},
   "outputs": [
    {
     "name": "stdout",
     "output_type": "stream",
     "text": [
      "avengers  age of ultron infinity wars\n"
     ]
    }
   ],
   "source": [
    "s=\"avengers \"\n",
    "i=\"age of ultron\"\n",
    "d=\"infinity wars\"\n",
    "print(s,i,d)"
   ]
  },
  {
   "cell_type": "code",
   "execution_count": 18,
   "id": "18239b96",
   "metadata": {},
   "outputs": [
    {
     "name": "stdout",
     "output_type": "stream",
     "text": [
      "\n",
      "avengers \n",
      "avengers \n",
      "avengers \n",
      "avengers \n",
      "avengers \n",
      "avengers \n",
      "avengers \n",
      "avengers \n",
      "avengers \n",
      "avengers \n",
      "avengers \n",
      "avengers \n",
      "avengers \n",
      "avengers \n",
      "avengers \n",
      "avengers \n",
      "avengers \n",
      "avengers \n",
      "avengers \n",
      "avengers \n",
      "avengers \n",
      "avengers \n",
      "avengers \n",
      "avengers \n",
      "avengers \n",
      "avengers \n",
      "avengers \n"
     ]
    }
   ],
   "source": [
    "print(s*3**3)"
   ]
  },
  {
   "cell_type": "code",
   "execution_count": 4,
   "id": "4ec56bca",
   "metadata": {},
   "outputs": [
    {
     "name": "stdout",
     "output_type": "stream",
     "text": [
      "True\n"
     ]
    },
    {
     "data": {
      "text/plain": [
       "True"
      ]
     },
     "execution_count": 4,
     "metadata": {},
     "output_type": "execute_result"
    }
   ],
   "source": [
    "s=\"siddhay\"\n",
    "print(\"dd\" in s)\n",
    "\"ss\" not in s"
   ]
  },
  {
   "cell_type": "code",
   "execution_count": 8,
   "id": "eb913f04",
   "metadata": {},
   "outputs": [
    {
     "data": {
      "text/plain": [
       "'\\navengers '"
      ]
     },
     "execution_count": 8,
     "metadata": {},
     "output_type": "execute_result"
    }
   ],
   "source": [
    "s[:15]"
   ]
  },
  {
   "cell_type": "raw",
   "id": "6097d3a5",
   "metadata": {},
   "source": [
    "s[:15]"
   ]
  },
  {
   "cell_type": "code",
   "execution_count": null,
   "id": "0e96ad32",
   "metadata": {},
   "outputs": [],
   "source": []
  },
  {
   "cell_type": "code",
   "execution_count": 14,
   "id": "cac30feb",
   "metadata": {},
   "outputs": [
    {
     "data": {
      "text/plain": [
       "'g'"
      ]
     },
     "execution_count": 14,
     "metadata": {},
     "output_type": "execute_result"
    }
   ],
   "source": [
    "s[-5]"
   ]
  },
  {
   "cell_type": "code",
   "execution_count": null,
   "id": "4a383bab",
   "metadata": {},
   "outputs": [],
   "source": []
  },
  {
   "cell_type": "code",
   "execution_count": 28,
   "id": "8ba660b3",
   "metadata": {},
   "outputs": [
    {
     "name": "stdout",
     "output_type": "stream",
     "text": [
      "avengers \n"
     ]
    }
   ],
   "source": [
    "print(s[0:50:1])"
   ]
  },
  {
   "cell_type": "code",
   "execution_count": 46,
   "id": "092aca57",
   "metadata": {},
   "outputs": [
    {
     "name": "stdout",
     "output_type": "stream",
     "text": [
      "g\n"
     ]
    }
   ],
   "source": [
    "print(s[len(s)%5])"
   ]
  },
  {
   "cell_type": "code",
   "execution_count": 47,
   "id": "f61e7481",
   "metadata": {},
   "outputs": [
    {
     "name": "stdout",
     "output_type": "stream",
     "text": [
      "Right strip :         STring 1 string 2\n",
      "left strip : STring 1       string 2\n",
      "strip : STring 1 string 2\n"
     ]
    }
   ],
   "source": [
    "str1 = \"        STring 1      \"\n",
    "\n",
    "str2 = \" string 2\" \n",
    "\n",
    " \n",
    "\n",
    "print(\"Right strip :\",str1.rstrip(),end=\"\")\n",
    "\n",
    "print(str2)\n",
    "\n",
    "\n",
    "print(\"left strip :\",str1.lstrip(),end=\"\")\n",
    "\n",
    "print(str2)\n",
    "\n",
    "\n",
    "print(\"strip :\",str1.strip(),end=\"\")\n",
    "\n",
    "print(str2)"
   ]
  },
  {
   "cell_type": "code",
   "execution_count": 50,
   "id": "bfd8bc92",
   "metadata": {},
   "outputs": [
    {
     "name": "stdout",
     "output_type": "stream",
     "text": [
      "False\n",
      "True\n",
      "True\n",
      "True\n",
      "True\n",
      "True\n"
     ]
    }
   ],
   "source": [
    "#Try it yourself:\n",
    "\n",
    "s1=\"ab#d123\"\n",
    "\n",
    "s2=\"itvedant\"\n",
    "\n",
    "s3=\"1232\"\n",
    "\n",
    "s4=\"ABC\"\n",
    "\n",
    "s5=\"Hello All\"\n",
    "\n",
    "print(s1.isalnum())#it will check alpha numeric[a-za-Z0-9],it will return T/F\n",
    "\n",
    "print(s2.isalpha())#it will check alpha [a-za-Z],it will return T/F\n",
    "\n",
    "print(s3.isdigit())#it will check numbers[0-9],it will return T/F\n",
    "\n",
    "print(s4.isupper())\n",
    "\n",
    "print(s2.islower())\n",
    "\n",
    "print(s5.istitle())"
   ]
  },
  {
   "cell_type": "code",
   "execution_count": 53,
   "id": "a4bbee9c",
   "metadata": {},
   "outputs": [
    {
     "name": "stdout",
     "output_type": "stream",
     "text": [
      "2\n"
     ]
    }
   ],
   "source": [
    "str1=\"Welcome to USA.USA is awasome, isn't it?\"\n",
    "print(str1.count(\"USA\"))"
   ]
  },
  {
   "cell_type": "code",
   "execution_count": 61,
   "id": "1d705a93",
   "metadata": {},
   "outputs": [
    {
     "name": "stdout",
     "output_type": "stream",
     "text": [
      "['Emma', 'is', 'a', 'Data', 'scientist']\n"
     ]
    }
   ],
   "source": [
    "str2=\"Emma-is-a-Data-scientist\"\n",
    "data=str2.split(\"-\")\n",
    "print(data)"
   ]
  },
  {
   "cell_type": "code",
   "execution_count": 21,
   "id": "7b953a24",
   "metadata": {},
   "outputs": [],
   "source": [
    "s=\"  sidd hay   \""
   ]
  },
  {
   "cell_type": "code",
   "execution_count": 22,
   "id": "f1ab7178",
   "metadata": {},
   "outputs": [
    {
     "name": "stdout",
     "output_type": "stream",
     "text": [
      "12\n"
     ]
    }
   ],
   "source": [
    "print(len(s)-1)"
   ]
  },
  {
   "cell_type": "code",
   "execution_count": 27,
   "id": "548bb99b",
   "metadata": {},
   "outputs": [],
   "source": [
    "si=s.strip()"
   ]
  },
  {
   "cell_type": "code",
   "execution_count": 28,
   "id": "d1af15f6",
   "metadata": {},
   "outputs": [
    {
     "data": {
      "text/plain": [
       "8"
      ]
     },
     "execution_count": 28,
     "metadata": {},
     "output_type": "execute_result"
    }
   ],
   "source": [
    "len(si)"
   ]
  },
  {
   "cell_type": "code",
   "execution_count": 29,
   "id": "1c6565c6",
   "metadata": {},
   "outputs": [
    {
     "data": {
      "text/plain": [
       "'sidd hay'"
      ]
     },
     "execution_count": 29,
     "metadata": {},
     "output_type": "execute_result"
    }
   ],
   "source": [
    "si"
   ]
  },
  {
   "cell_type": "code",
   "execution_count": 40,
   "id": "a3e11038",
   "metadata": {},
   "outputs": [],
   "source": [
    "s=\"itVedaNt eduCation \""
   ]
  },
  {
   "cell_type": "code",
   "execution_count": 31,
   "id": "8e347268",
   "metadata": {},
   "outputs": [
    {
     "data": {
      "text/plain": [
       "'ITVEDANT EDUCATION'"
      ]
     },
     "execution_count": 31,
     "metadata": {},
     "output_type": "execute_result"
    }
   ],
   "source": [
    "s.upper()"
   ]
  },
  {
   "cell_type": "code",
   "execution_count": 32,
   "id": "9275de3e",
   "metadata": {},
   "outputs": [
    {
     "data": {
      "text/plain": [
       "'itvedant education'"
      ]
     },
     "execution_count": 32,
     "metadata": {},
     "output_type": "execute_result"
    }
   ],
   "source": [
    "s.lower()"
   ]
  },
  {
   "cell_type": "code",
   "execution_count": 41,
   "id": "f0536605",
   "metadata": {},
   "outputs": [
    {
     "data": {
      "text/plain": [
       "'Itvedant Education '"
      ]
     },
     "execution_count": 41,
     "metadata": {},
     "output_type": "execute_result"
    }
   ],
   "source": [
    "s.title()"
   ]
  },
  {
   "cell_type": "code",
   "execution_count": 35,
   "id": "cd753a8e",
   "metadata": {},
   "outputs": [
    {
     "data": {
      "text/plain": [
       "'ITvEDAnT EDUcATION'"
      ]
     },
     "execution_count": 35,
     "metadata": {},
     "output_type": "execute_result"
    }
   ],
   "source": [
    "s.swapcase()"
   ]
  },
  {
   "cell_type": "code",
   "execution_count": 42,
   "id": "5b738a71",
   "metadata": {},
   "outputs": [
    {
     "data": {
      "text/plain": [
       "'Itvedant education '"
      ]
     },
     "execution_count": 42,
     "metadata": {},
     "output_type": "execute_result"
    }
   ],
   "source": [
    "s.capitalize()"
   ]
  },
  {
   "cell_type": "code",
   "execution_count": 58,
   "id": "5cdf22a4",
   "metadata": {},
   "outputs": [],
   "source": [
    "s1=\"ab#123\"\n",
    "s2=\"itvedant\"\n",
    "s3=\"123\"\n",
    "s4=\"ABC\"\n",
    "s5=\"Hello All\""
   ]
  },
  {
   "cell_type": "code",
   "execution_count": 48,
   "id": "585cd7cb",
   "metadata": {},
   "outputs": [
    {
     "name": "stdout",
     "output_type": "stream",
     "text": [
      "False\n"
     ]
    }
   ],
   "source": [
    "print(s1.isalnum())"
   ]
  },
  {
   "cell_type": "code",
   "execution_count": 51,
   "id": "f74f6115",
   "metadata": {},
   "outputs": [
    {
     "data": {
      "text/plain": [
       "True"
      ]
     },
     "execution_count": 51,
     "metadata": {},
     "output_type": "execute_result"
    }
   ],
   "source": [
    "s2.isalpha()"
   ]
  },
  {
   "cell_type": "code",
   "execution_count": 52,
   "id": "ae52a124",
   "metadata": {},
   "outputs": [
    {
     "data": {
      "text/plain": [
       "True"
      ]
     },
     "execution_count": 52,
     "metadata": {},
     "output_type": "execute_result"
    }
   ],
   "source": [
    "s3.isalnum()"
   ]
  },
  {
   "cell_type": "code",
   "execution_count": 53,
   "id": "348eeeb8",
   "metadata": {},
   "outputs": [
    {
     "data": {
      "text/plain": [
       "True"
      ]
     },
     "execution_count": 53,
     "metadata": {},
     "output_type": "execute_result"
    }
   ],
   "source": [
    "s3.isdigit()"
   ]
  },
  {
   "cell_type": "code",
   "execution_count": 55,
   "id": "036dd1da",
   "metadata": {},
   "outputs": [
    {
     "data": {
      "text/plain": [
       "True"
      ]
     },
     "execution_count": 55,
     "metadata": {},
     "output_type": "execute_result"
    }
   ],
   "source": [
    "s4.isupper()"
   ]
  },
  {
   "cell_type": "code",
   "execution_count": 56,
   "id": "5e84ac9b",
   "metadata": {},
   "outputs": [
    {
     "data": {
      "text/plain": [
       "True"
      ]
     },
     "execution_count": 56,
     "metadata": {},
     "output_type": "execute_result"
    }
   ],
   "source": [
    "s2.islower()"
   ]
  },
  {
   "cell_type": "code",
   "execution_count": 59,
   "id": "474d5dbc",
   "metadata": {},
   "outputs": [
    {
     "data": {
      "text/plain": [
       "True"
      ]
     },
     "execution_count": 59,
     "metadata": {},
     "output_type": "execute_result"
    }
   ],
   "source": [
    "s5.istitle()"
   ]
  },
  {
   "cell_type": "code",
   "execution_count": 60,
   "id": "1a30dd65",
   "metadata": {},
   "outputs": [],
   "source": [
    "s6=\"avengers assemble,avengers age of ultron , avengers infinity war, avengers endgame\""
   ]
  },
  {
   "cell_type": "code",
   "execution_count": 61,
   "id": "f9a2fa88",
   "metadata": {},
   "outputs": [
    {
     "data": {
      "text/plain": [
       "8"
      ]
     },
     "execution_count": 61,
     "metadata": {},
     "output_type": "execute_result"
    }
   ],
   "source": [
    "s6.count(\"a\")"
   ]
  },
  {
   "cell_type": "code",
   "execution_count": 62,
   "id": "364091b8",
   "metadata": {},
   "outputs": [
    {
     "data": {
      "text/plain": [
       "10"
      ]
     },
     "execution_count": 62,
     "metadata": {},
     "output_type": "execute_result"
    }
   ],
   "source": [
    "s6.count(\" \")"
   ]
  },
  {
   "cell_type": "code",
   "execution_count": 65,
   "id": "354c80d0",
   "metadata": {},
   "outputs": [
    {
     "name": "stdout",
     "output_type": "stream",
     "text": [
      "python is low level programming language\n",
      "python is higher level programming language\n"
     ]
    }
   ],
   "source": [
    "s7=\"python is low level programming language\"\n",
    "s8=s7.replace(\"low\",\"higher\")\n",
    "print(s7)\n",
    "print(s8)"
   ]
  },
  {
   "cell_type": "code",
   "execution_count": 67,
   "id": "4b014fcc",
   "metadata": {},
   "outputs": [
    {
     "data": {
      "text/plain": [
       "97"
      ]
     },
     "execution_count": 67,
     "metadata": {},
     "output_type": "execute_result"
    }
   ],
   "source": [
    "ord(\"a\")"
   ]
  },
  {
   "cell_type": "code",
   "execution_count": 75,
   "id": "7bb6e119",
   "metadata": {},
   "outputs": [
    {
     "data": {
      "text/plain": [
       "'a'"
      ]
     },
     "execution_count": 75,
     "metadata": {},
     "output_type": "execute_result"
    }
   ],
   "source": [
    "chr(97)"
   ]
  },
  {
   "cell_type": "code",
   "execution_count": 101,
   "id": "273e81f1",
   "metadata": {},
   "outputs": [],
   "source": [
    "t=(12,21.4,\"sidd\",\"Thane\",\"box\",325)"
   ]
  },
  {
   "cell_type": "code",
   "execution_count": 102,
   "id": "8a9f130b",
   "metadata": {},
   "outputs": [
    {
     "name": "stdout",
     "output_type": "stream",
     "text": [
      "(12, 21.4, 'sidd', 'Thane', 'box', 325)\n",
      "<class 'tuple'>\n",
      "sidd\n"
     ]
    }
   ],
   "source": [
    "print(t)\n",
    "print(type(t))\n",
    "print(t[2])"
   ]
  },
  {
   "cell_type": "code",
   "execution_count": 83,
   "id": "84b78469",
   "metadata": {},
   "outputs": [
    {
     "name": "stdout",
     "output_type": "stream",
     "text": [
      "box\n"
     ]
    }
   ],
   "source": [
    "print(t[4])"
   ]
  },
  {
   "cell_type": "code",
   "execution_count": 85,
   "id": "d0fd4ce0",
   "metadata": {},
   "outputs": [
    {
     "name": "stdout",
     "output_type": "stream",
     "text": [
      "(12, 21.4, 'sidd', 'Thane', 'box')\n"
     ]
    }
   ],
   "source": [
    "print(t[0:-1])"
   ]
  },
  {
   "cell_type": "code",
   "execution_count": 86,
   "id": "fc2ebd85",
   "metadata": {},
   "outputs": [
    {
     "data": {
      "text/plain": [
       "6"
      ]
     },
     "execution_count": 86,
     "metadata": {},
     "output_type": "execute_result"
    }
   ],
   "source": [
    "l=len(t)\n",
    "l"
   ]
  },
  {
   "cell_type": "code",
   "execution_count": 91,
   "id": "d0b46814",
   "metadata": {},
   "outputs": [
    {
     "name": "stdout",
     "output_type": "stream",
     "text": [
      "12 21.4 sidd Thane box 325 "
     ]
    }
   ],
   "source": [
    "for i in t:\n",
    "    print(i,end=\" \")"
   ]
  },
  {
   "cell_type": "code",
   "execution_count": 97,
   "id": "155034d4",
   "metadata": {},
   "outputs": [
    {
     "name": "stdout",
     "output_type": "stream",
     "text": [
      "12 21.4 sidd Thane box "
     ]
    }
   ],
   "source": [
    "for x in range(0,5,1):\n",
    "    print(t[x],end=\" \")"
   ]
  },
  {
   "cell_type": "code",
   "execution_count": 99,
   "id": "2731299b",
   "metadata": {},
   "outputs": [
    {
     "name": "stdout",
     "output_type": "stream",
     "text": [
      "(21.4, 'sidd', 'Thane', 'box')\n"
     ]
    }
   ],
   "source": [
    "print(t[1:-1:1])"
   ]
  },
  {
   "cell_type": "code",
   "execution_count": 1,
   "id": "289751b7",
   "metadata": {},
   "outputs": [
    {
     "ename": "NameError",
     "evalue": "name 't' is not defined",
     "output_type": "error",
     "traceback": [
      "\u001b[1;31m---------------------------------------------------------------------------\u001b[0m",
      "\u001b[1;31mNameError\u001b[0m                                 Traceback (most recent call last)",
      "Cell \u001b[1;32mIn[1], line 1\u001b[0m\n\u001b[1;32m----> 1\u001b[0m \u001b[38;5;28;01mdel\u001b[39;00m t\n",
      "\u001b[1;31mNameError\u001b[0m: name 't' is not defined"
     ]
    }
   ],
   "source": [
    "del t\n",
    "#print(t)"
   ]
  },
  {
   "cell_type": "code",
   "execution_count": 15,
   "id": "ea24daa5",
   "metadata": {},
   "outputs": [],
   "source": [
    "list1=('ITVEDANT')"
   ]
  },
  {
   "cell_type": "code",
   "execution_count": 3,
   "id": "9a671e1a",
   "metadata": {},
   "outputs": [
    {
     "data": {
      "text/plain": [
       "['I', 'T', 'V', 'E', 'D', 'A', 'N', 'T']"
      ]
     },
     "execution_count": 3,
     "metadata": {},
     "output_type": "execute_result"
    }
   ],
   "source": [
    "l1=list(\"ITVEDANT\")\n",
    "l1"
   ]
  },
  {
   "cell_type": "code",
   "execution_count": 2,
   "id": "c9b142f5",
   "metadata": {},
   "outputs": [],
   "source": [
    "l1 = list(\"ITVEDANT\")\n"
   ]
  },
  {
   "cell_type": "code",
   "execution_count": 8,
   "id": "91b1d79a",
   "metadata": {},
   "outputs": [],
   "source": [
    "\n",
    "s"
   ]
  },
  {
   "cell_type": "code",
   "execution_count": 9,
   "id": "a06430d2",
   "metadata": {},
   "outputs": [
    {
     "name": "stdout",
     "output_type": "stream",
     "text": [
      "None\n"
     ]
    }
   ],
   "source": [
    "print(s)"
   ]
  },
  {
   "cell_type": "code",
   "execution_count": 16,
   "id": "58a859bf",
   "metadata": {},
   "outputs": [
    {
     "ename": "AttributeError",
     "evalue": "'str' object has no attribute 'reversed'",
     "output_type": "error",
     "traceback": [
      "\u001b[1;31m---------------------------------------------------------------------------\u001b[0m",
      "\u001b[1;31mAttributeError\u001b[0m                            Traceback (most recent call last)",
      "Cell \u001b[1;32mIn[16], line 1\u001b[0m\n\u001b[1;32m----> 1\u001b[0m s\u001b[38;5;241m=\u001b[39mlist1\u001b[38;5;241m.\u001b[39mreversed()\n\u001b[0;32m      2\u001b[0m s\n",
      "\u001b[1;31mAttributeError\u001b[0m: 'str' object has no attribute 'reversed'"
     ]
    }
   ],
   "source": [
    "s=list1.reversed()\n",
    "s"
   ]
  },
  {
   "cell_type": "code",
   "execution_count": 20,
   "id": "fcf5c7e4",
   "metadata": {},
   "outputs": [
    {
     "ename": "AttributeError",
     "evalue": "'str' object has no attribute 'copy'",
     "output_type": "error",
     "traceback": [
      "\u001b[1;31m---------------------------------------------------------------------------\u001b[0m",
      "\u001b[1;31mAttributeError\u001b[0m                            Traceback (most recent call last)",
      "Cell \u001b[1;32mIn[20], line 1\u001b[0m\n\u001b[1;32m----> 1\u001b[0m x\u001b[38;5;241m=\u001b[39mlist1\u001b[38;5;241m.\u001b[39mcopy()\n\u001b[0;32m      2\u001b[0m x\n",
      "\u001b[1;31mAttributeError\u001b[0m: 'str' object has no attribute 'copy'"
     ]
    }
   ],
   "source": [
    "x=list1.copy()\n",
    "x"
   ]
  },
  {
   "cell_type": "code",
   "execution_count": 21,
   "id": "06b98bfb",
   "metadata": {},
   "outputs": [
    {
     "data": {
      "text/plain": [
       "['h', 'u', 'm', 'a', 'n']"
      ]
     },
     "execution_count": 21,
     "metadata": {},
     "output_type": "execute_result"
    }
   ],
   "source": [
    "h=[letter for letter in 'human']\n",
    "h"
   ]
  },
  {
   "cell_type": "code",
   "execution_count": 23,
   "id": "6654d036",
   "metadata": {},
   "outputs": [
    {
     "data": {
      "text/plain": [
       "['s', 'i', 'd', 'd', 'h', 'a', 'y']"
      ]
     },
     "execution_count": 23,
     "metadata": {},
     "output_type": "execute_result"
    }
   ],
   "source": [
    "x=[i for i in \"siddhay\"]\n",
    "x"
   ]
  },
  {
   "cell_type": "code",
   "execution_count": 28,
   "id": "d722fca2",
   "metadata": {},
   "outputs": [
    {
     "data": {
      "text/plain": [
       "{0, 1, 2, 3, 4}"
      ]
     },
     "execution_count": 28,
     "metadata": {},
     "output_type": "execute_result"
    }
   ],
   "source": [
    "s={i for i in range(5)}\n",
    "s"
   ]
  },
  {
   "cell_type": "markdown",
   "id": "ba303c1f",
   "metadata": {},
   "source": [
    "dict is not done properly"
   ]
  },
  {
   "cell_type": "code",
   "execution_count": 2,
   "id": "eb19f62f",
   "metadata": {},
   "outputs": [],
   "source": [
    "d1={'a':'apple' , 'b':'banana' , 'c':'chikku','d':'mango'}\n",
    "d2={1:'sid',4:\"ram\",5:'sam',6:'max'}"
   ]
  },
  {
   "cell_type": "code",
   "execution_count": 3,
   "id": "b8c34984",
   "metadata": {},
   "outputs": [
    {
     "name": "stdout",
     "output_type": "stream",
     "text": [
      "{'a': 'apple', 'b': 'banana', 'c': 'chikku', 'd': 'mango'}\n"
     ]
    },
    {
     "data": {
      "text/plain": [
       "{1: 'sid', 4: 'ram', 5: 'sam', 6: 'max'}"
      ]
     },
     "execution_count": 3,
     "metadata": {},
     "output_type": "execute_result"
    }
   ],
   "source": [
    "print(d1)\n",
    "d2"
   ]
  },
  {
   "cell_type": "code",
   "execution_count": 5,
   "id": "fdd54b55",
   "metadata": {},
   "outputs": [],
   "source": [
    "s=d1.get(2)"
   ]
  },
  {
   "cell_type": "code",
   "execution_count": 6,
   "id": "c1fb2b79",
   "metadata": {},
   "outputs": [],
   "source": [
    "s"
   ]
  },
  {
   "cell_type": "code",
   "execution_count": 12,
   "id": "e4d1192b",
   "metadata": {},
   "outputs": [
    {
     "name": "stdout",
     "output_type": "stream",
     "text": [
      "('a', 'v', 'c', 'd', 'e')\n",
      "frozenset is  frozenset({'c', 'v', 'a', 'd', 'e'})\n",
      "empty forzenset is frozenset()\n"
     ]
    },
    {
     "ename": "AttributeError",
     "evalue": "'tuple' object has no attribute 'add'",
     "output_type": "error",
     "traceback": [
      "\u001b[1;31m---------------------------------------------------------------------------\u001b[0m",
      "\u001b[1;31mAttributeError\u001b[0m                            Traceback (most recent call last)",
      "Cell \u001b[1;32mIn[12], line 6\u001b[0m\n\u001b[0;32m      4\u001b[0m \u001b[38;5;28mprint\u001b[39m(\u001b[38;5;124m\"\u001b[39m\u001b[38;5;124mfrozenset is \u001b[39m\u001b[38;5;124m\"\u001b[39m,fset)\n\u001b[0;32m      5\u001b[0m \u001b[38;5;28mprint\u001b[39m(\u001b[38;5;124m'\u001b[39m\u001b[38;5;124mempty forzenset is\u001b[39m\u001b[38;5;124m'\u001b[39m,\u001b[38;5;28mfrozenset\u001b[39m())\n\u001b[1;32m----> 6\u001b[0m s\u001b[38;5;241m=\u001b[39mvowels\u001b[38;5;241m.\u001b[39madd(\u001b[38;5;124m'\u001b[39m\u001b[38;5;124mv\u001b[39m\u001b[38;5;124m'\u001b[39m)\n\u001b[0;32m      7\u001b[0m s\n",
      "\u001b[1;31mAttributeError\u001b[0m: 'tuple' object has no attribute 'add'"
     ]
    }
   ],
   "source": [
    "vowels=('a','v','c','d','e')\n",
    "print(vowels)\n",
    "fset=frozenset(vowels)\n",
    "print(\"frozenset is \",fset)\n",
    "print('empty forzenset is',frozenset())\n",
    "s=vowels.add('v')\n",
    "s"
   ]
  },
  {
   "cell_type": "code",
   "execution_count": 17,
   "id": "5d27281c",
   "metadata": {},
   "outputs": [
    {
     "data": {
      "text/plain": [
       "frozenset({1, 2, 3, 4})"
      ]
     },
     "execution_count": 17,
     "metadata": {},
     "output_type": "execute_result"
    }
   ],
   "source": [
    "A=frozenset([1,2,3,4])\n",
    "B=frozenset([3,4,5,6,7])\n",
    "c=A.copy()\n",
    "c"
   ]
  },
  {
   "cell_type": "code",
   "execution_count": 14,
   "id": "7e9a7e57",
   "metadata": {},
   "outputs": [
    {
     "data": {
      "text/plain": [
       "frozenset({1, 2, 3, 4, 5, 6, 7})"
      ]
     },
     "execution_count": 14,
     "metadata": {},
     "output_type": "execute_result"
    }
   ],
   "source": [
    "d=A.union(B)\n",
    "d"
   ]
  },
  {
   "cell_type": "code",
   "execution_count": 18,
   "id": "3b628661",
   "metadata": {},
   "outputs": [
    {
     "data": {
      "text/plain": [
       "frozenset({3, 4})"
      ]
     },
     "execution_count": 18,
     "metadata": {},
     "output_type": "execute_result"
    }
   ],
   "source": [
    "e=A.intersection(B)\n",
    "e"
   ]
  },
  {
   "cell_type": "code",
   "execution_count": 21,
   "id": "fe29402e",
   "metadata": {},
   "outputs": [
    {
     "data": {
      "text/plain": [
       "frozenset({5, 6, 7})"
      ]
     },
     "execution_count": 21,
     "metadata": {},
     "output_type": "execute_result"
    }
   ],
   "source": [
    "f=B.difference(A)\n",
    "f"
   ]
  },
  {
   "cell_type": "code",
   "execution_count": 20,
   "id": "d9964b59",
   "metadata": {},
   "outputs": [
    {
     "data": {
      "text/plain": [
       "frozenset({1, 2, 5, 6, 7})"
      ]
     },
     "execution_count": 20,
     "metadata": {},
     "output_type": "execute_result"
    }
   ],
   "source": [
    "g=A.symmetric_difference(B)\n",
    "g"
   ]
  },
  {
   "cell_type": "code",
   "execution_count": 10,
   "id": "14788ac7",
   "metadata": {},
   "outputs": [
    {
     "name": "stdout",
     "output_type": "stream",
     "text": [
      "(11, 22, [33, 44, 55], 66, 77)\n",
      "(11, 22, [33, 444, 55], 66, 77)\n"
     ]
    }
   ],
   "source": [
    "tuple1=(11,22,[33,44,55],66,77)\n",
    "print(tuple1)\n",
    "list1=list(tuple1)\n",
    "list1[2][1]=444\n",
    "tuple1=tuple(list1)\n",
    "print(tuple1)"
   ]
  },
  {
   "cell_type": "code",
   "execution_count": 21,
   "id": "d9e567f9",
   "metadata": {},
   "outputs": [
    {
     "data": {
      "text/plain": [
       "{10, 20, 30, 80, 90}"
      ]
     },
     "execution_count": 21,
     "metadata": {},
     "output_type": "execute_result"
    }
   ],
   "source": [
    "set1={10,20,30,40,50,60,70}\n",
    "set2={40,50,60,70,80,90}\n",
    "s=set1.symmetric_difference(set2)\n",
    "s"
   ]
  },
  {
   "cell_type": "code",
   "execution_count": 16,
   "id": "9be8635c",
   "metadata": {},
   "outputs": [
    {
     "name": "stdout",
     "output_type": "stream",
     "text": [
      "{'emp1': {'name': 'Jhon', 'salary': 75000}, 'emp2': {'name': 'Emma', 'salary': 80000}, 'emp3': {'name': 'Brad', 'salary': 500}}\n"
     ]
    },
    {
     "data": {
      "text/plain": [
       "{'emp1': {'name': 'Jhon', 'salary': 75000},\n",
       " 'emp2': {'name': 'Emma', 'salary': 80000},\n",
       " 'emp3': {'name': 'Brad', 'salary': 85000}}"
      ]
     },
     "execution_count": 16,
     "metadata": {},
     "output_type": "execute_result"
    }
   ],
   "source": [
    "\n",
    "sample_dict={'emp1':{'name':'Jhon','salary':75000},'emp2':{'name':'Emma','salary':80000},'emp3':{'name':'Brad','salary':500}}\n",
    "print(sample_dict)\n",
    "sample_dict['emp3']['salary']=85000\n",
    "sample_dict"
   ]
  },
  {
   "cell_type": "code",
   "execution_count": 77,
   "id": "00bc0de1",
   "metadata": {},
   "outputs": [
    {
     "name": "stdout",
     "output_type": "stream",
     "text": [
      "enter the age : 70\n",
      "you are sinior citizen\n"
     ]
    }
   ],
   "source": [
    "age=int(input(\"enter the age : \"))\n",
    "if age<18:\n",
    "    print(\"you are minior \")\n",
    "elif age>=18 and age<65:\n",
    "    print(\"you are adult\")\n",
    "else:\n",
    "    print('you are sinior citizen')"
   ]
  },
  {
   "cell_type": "code",
   "execution_count": 85,
   "id": "aed77baa",
   "metadata": {},
   "outputs": [
    {
     "name": "stdout",
     "output_type": "stream",
     "text": [
      "enter the number:85\n",
      "you are sinior citizen\n"
     ]
    }
   ],
   "source": [
    "age=int(input('enter the number:'))\n",
    "if age<18:\n",
    "    print('you are minior')\n",
    "elif age>=18 and age<=65:\n",
    "    print('you are adult')\n",
    "else:\n",
    "    print('you are sinior citizen')"
   ]
  },
  {
   "cell_type": "code",
   "execution_count": 102,
   "id": "5d68a60f",
   "metadata": {},
   "outputs": [
    {
     "name": "stdout",
     "output_type": "stream",
     "text": [
      "enter the 1 number efa\n"
     ]
    },
    {
     "ename": "ValueError",
     "evalue": "invalid literal for int() with base 10: 'efa'",
     "output_type": "error",
     "traceback": [
      "\u001b[1;31m---------------------------------------------------------------------------\u001b[0m",
      "\u001b[1;31mValueError\u001b[0m                                Traceback (most recent call last)",
      "Cell \u001b[1;32mIn[102], line 1\u001b[0m\n\u001b[1;32m----> 1\u001b[0m x\u001b[38;5;241m=\u001b[39m\u001b[38;5;28mint\u001b[39m(\u001b[38;5;28minput\u001b[39m(\u001b[38;5;124m\"\u001b[39m\u001b[38;5;124menter the 1 number \u001b[39m\u001b[38;5;124m\"\u001b[39m))\n\u001b[0;32m      2\u001b[0m y\u001b[38;5;241m=\u001b[39m\u001b[38;5;28mint\u001b[39m(\u001b[38;5;28minput\u001b[39m(\u001b[38;5;124m'\u001b[39m\u001b[38;5;124menter the 2 number \u001b[39m\u001b[38;5;124m'\u001b[39m))\n\u001b[0;32m      3\u001b[0m \u001b[38;5;28;01mif\u001b[39;00m x\u001b[38;5;241m==\u001b[39my:\n",
      "\u001b[1;31mValueError\u001b[0m: invalid literal for int() with base 10: 'efa'"
     ]
    }
   ],
   "source": [
    "x=int(input(\"enter the 1 number \"))\n",
    "y=int(input('enter the 2 number '))\n",
    "if x==y:\n",
    "    print(\"both number are equal\")\n",
    "else:\n",
    "    if x>y:\n",
    "        print(f'{x} 1st number is greater')\n",
    "    else:\n",
    "        print(f'{y} 2nd number is greater')"
   ]
  },
  {
   "cell_type": "code",
   "execution_count": 115,
   "id": "e461b870",
   "metadata": {},
   "outputs": [
    {
     "name": "stdout",
     "output_type": "stream",
     "text": [
      "enter the age (m/f):F\n",
      "enter the age:64\n",
      "she will work only in urben\n"
     ]
    }
   ],
   "source": [
    "gender= input(\"enter the age (m/f):\")\n",
    "age = int(input(\"enter the age:\"))\n",
    "if gender== 'f'or 'F':\n",
    "    print(\"she will work only in urben\")\n",
    "elif gender=='m'or 'M' and age >=20 and age <=40:\n",
    "    print(\"He may work anywhere\")\n",
    "elif gender=='m'or 'M' and age>=40 and age <=60:\n",
    "    print(\"he may work in urban area only\")\n",
    "else:\n",
    "    print('error')"
   ]
  },
  {
   "cell_type": "code",
   "execution_count": 5,
   "id": "7a6d0663",
   "metadata": {},
   "outputs": [
    {
     "name": "stdout",
     "output_type": "stream",
     "text": [
      "-10\n",
      "-8\n",
      "-6\n",
      "-4\n",
      "-2\n",
      "0\n",
      "2\n",
      "4\n",
      "6\n",
      "8\n",
      "10\n"
     ]
    }
   ],
   "source": [
    "#ranges (for)\n",
    "\n",
    "for i in range(-10,12,2):\n",
    "    print(i)"
   ]
  },
  {
   "cell_type": "code",
   "execution_count": 8,
   "id": "1aab7885",
   "metadata": {},
   "outputs": [
    {
     "name": "stdout",
     "output_type": "stream",
     "text": [
      "0\n",
      "1\n",
      "2\n",
      "3\n",
      "4\n",
      "5\n",
      "6\n",
      "7\n",
      "8\n",
      "9\n"
     ]
    }
   ],
   "source": [
    "for i in range(0,10):\n",
    "    print(i)"
   ]
  },
  {
   "cell_type": "code",
   "execution_count": 9,
   "id": "77878d0a",
   "metadata": {},
   "outputs": [
    {
     "name": "stdout",
     "output_type": "stream",
     "text": [
      "sid\n",
      "she\n",
      "rt\n",
      "mux\n",
      "demux\n"
     ]
    }
   ],
   "source": [
    "l1=[\"sid\",\"she\",\"rt\",\"mux\",\"demux\"]\n",
    "for i in l1:\n",
    "    print(i)"
   ]
  },
  {
   "cell_type": "code",
   "execution_count": 13,
   "id": "ccbbbe14",
   "metadata": {},
   "outputs": [
    {
     "name": "stdout",
     "output_type": "stream",
     "text": [
      "enter the Number:5\n",
      "the 5 is factorial of : 120\n"
     ]
    }
   ],
   "source": [
    "number=int(input(\"enter the Number:\"))\n",
    "factorial=1\n",
    "if number>0:\n",
    "    for i in range(1,number+1):\n",
    "        factorial*=i\n",
    "    print(f\"the {number} is factorial of : {factorial}\")\n",
    "else:\n",
    "    print(\"negative number cannot be factorized\")"
   ]
  },
  {
   "cell_type": "code",
   "execution_count": 18,
   "id": "d697211a",
   "metadata": {},
   "outputs": [
    {
     "name": "stdout",
     "output_type": "stream",
     "text": [
      "fibona series\n",
      "0 1 1 2 3 "
     ]
    }
   ],
   "source": [
    "my_term = 5\n",
    "a,b=0,1\n",
    "print(\"fibona series\")\n",
    "for i in range(my_term):\n",
    "    print(a, end=\" \")\n",
    "    a, b=b,a+b"
   ]
  },
  {
   "cell_type": "code",
   "execution_count": 11,
   "id": "8fce5185",
   "metadata": {},
   "outputs": [
    {
     "name": "stdout",
     "output_type": "stream",
     "text": [
      "['my', 'name', 'is', 'kelly']\n"
     ]
    }
   ],
   "source": [
    "l1=['m','na','i','ke']\n",
    "l2=['y','me','s','lly']\n",
    "l3=[i+j for i,j in zip (l1,l2)]\n",
    "print(l3)"
   ]
  },
  {
   "cell_type": "code",
   "execution_count": 35,
   "id": "148f1bea",
   "metadata": {},
   "outputs": [
    {
     "name": "stdout",
     "output_type": "stream",
     "text": [
      "1 siddhay, 2 siddhay, 3 siddhay, 4 siddhay, 5 siddhay, 6 siddhay, 7 siddhay, 8 siddhay, 9 siddhay, "
     ]
    }
   ],
   "source": [
    "for x in range(1,100):\n",
    "    if(x==10):\n",
    "        break\n",
    "    print(x,\"siddhay\" , end=\", \"  )\n",
    "else:\n",
    "    print(\"finished\")"
   ]
  },
  {
   "cell_type": "code",
   "execution_count": 38,
   "id": "04acbf37",
   "metadata": {},
   "outputs": [
    {
     "name": "stdout",
     "output_type": "stream",
     "text": [
      "1 2 3 4 5 6 7 8 9 loop is over\n"
     ]
    }
   ],
   "source": [
    "i=1\n",
    "while i<10:\n",
    "    if(i%18==0):\n",
    "        break\n",
    "    print(i,end=\" \")\n",
    "    i+=1\n",
    "else:\n",
    "    print(\"loop is over\")\n",
    "        "
   ]
  },
  {
   "cell_type": "code",
   "execution_count": 44,
   "id": "98d1aca0",
   "metadata": {},
   "outputs": [
    {
     "name": "stdout",
     "output_type": "stream",
     "text": [
      "Enter the number:11\n",
      "11 number is not prime\n"
     ]
    }
   ],
   "source": [
    "num= int(input(\"Enter the number:\"))\n",
    "for x in range(2,num):\n",
    "    if (x%2==0):\n",
    "        print(num,\"number is not prime\")\n",
    "        break\n",
    "    \n",
    "else:\n",
    "    print(num,\"number is prime\")"
   ]
  },
  {
   "cell_type": "code",
   "execution_count": 47,
   "id": "290ce21b",
   "metadata": {},
   "outputs": [
    {
     "name": "stdout",
     "output_type": "stream",
     "text": [
      "1 2 3 5 6 7 9 10 11 13 14 15 17 18 19 finish loop\n"
     ]
    }
   ],
   "source": [
    "for x in range(0,20):\n",
    "    if x%4==0:\n",
    "        \n",
    "        continue\n",
    "    print(x, end=\" \")\n",
    "else:\n",
    "    print(\"finish loop\")"
   ]
  },
  {
   "cell_type": "code",
   "execution_count": 48,
   "id": "6a7aab4b",
   "metadata": {},
   "outputs": [
    {
     "name": "stdout",
     "output_type": "stream",
     "text": [
      "1 2 3 4 6 7 8 9 11 12 13 14 16 17 18 19 end loop\n"
     ]
    }
   ],
   "source": [
    "for x in range(0,20):\n",
    "    if x%5==0:\n",
    "        continue\n",
    "    print(x,end=\" \")\n",
    "else:\n",
    "    print(\"end loop\")"
   ]
  },
  {
   "cell_type": "code",
   "execution_count": 1,
   "id": "3b42e0a8",
   "metadata": {},
   "outputs": [
    {
     "name": "stdout",
     "output_type": "stream",
     "text": [
      "1 2 3 4 10 11 12 13 14 15 16 17 18 19 loop finished\n"
     ]
    }
   ],
   "source": [
    "x=1\n",
    "while x<20:\n",
    "    if (x==5):\n",
    "        x=x+x\n",
    "        continue\n",
    "    print(x, end=\" \")\n",
    "    x+=1\n",
    "else: \n",
    "    print(\"loop finished\")"
   ]
  },
  {
   "cell_type": "code",
   "execution_count": 3,
   "id": "41544f0f",
   "metadata": {},
   "outputs": [
    {
     "name": "stdout",
     "output_type": "stream",
     "text": [
      "1 2 3 4 6 7 8 9 11 12 13 14 16 17 18 19 loop finished\n"
     ]
    }
   ],
   "source": [
    "for x in range(0,20): \n",
    "    if x%5==0:\n",
    "        continue\n",
    "    print(x,end=\" \")\n",
    "else:\n",
    "    print(\"loop finished\")"
   ]
  },
  {
   "cell_type": "code",
   "execution_count": 3,
   "id": "d3674127",
   "metadata": {},
   "outputs": [
    {
     "name": "stdout",
     "output_type": "stream",
     "text": [
      "1\n",
      "1 1\n",
      "1 2\n",
      "1 3\n",
      "1 4\n",
      "1 5\n",
      "5\n",
      "2\n",
      "2 1\n",
      "2 2\n",
      "2 3\n",
      "2 4\n",
      "2 5\n",
      "5\n",
      "3\n",
      "3 1\n",
      "3 2\n",
      "3 3\n",
      "3 4\n",
      "3 5\n",
      "5\n",
      "4\n",
      "4 1\n",
      "4 2\n",
      "4 3\n",
      "4 4\n",
      "4 5\n",
      "5\n",
      "5\n",
      "5 1\n",
      "5 2\n",
      "5 3\n",
      "5 4\n",
      "5 5\n",
      "5\n"
     ]
    }
   ],
   "source": [
    "#x=1\n",
    "for i in range(1,6):\n",
    "    x=i+1\n",
    "    print(i)\n",
    "    for n in range(1,6):\n",
    "        print(i,n)\n",
    "        x=i+1\n",
    "    print(n)\n"
   ]
  },
  {
   "cell_type": "code",
   "execution_count": 11,
   "id": "78f75fb2",
   "metadata": {},
   "outputs": [
    {
     "name": "stdout",
     "output_type": "stream",
     "text": [
      "1\n",
      "1 2\n",
      "2\n",
      "2 3\n",
      "3\n",
      "3 4\n",
      "4\n",
      "4 5\n",
      "5\n",
      "5 6\n"
     ]
    }
   ],
   "source": [
    "for n in range(0,5):\n",
    "    n=n+1\n",
    "    print(n)\n",
    "    for m in range(1,6):\n",
    "        m=n+1\n",
    "    print(n,m)"
   ]
  },
  {
   "cell_type": "code",
   "execution_count": 28,
   "id": "f4763612",
   "metadata": {},
   "outputs": [
    {
     "name": "stdout",
     "output_type": "stream",
     "text": [
      "1\n",
      "2\n",
      "3\n",
      "4\n",
      "5\n"
     ]
    }
   ],
   "source": [
    "\n",
    "for a in range(1,6):\n",
    "    #print(a, end=\" \")\n",
    "    #for b in range(1,6):\n",
    "        #print(a, end=\" \")\n",
    "        #a,b=a+1,b+1\n",
    "    print(a)"
   ]
  },
  {
   "cell_type": "code",
   "execution_count": 4,
   "id": "27e0ee32",
   "metadata": {},
   "outputs": [
    {
     "name": "stdout",
     "output_type": "stream",
     "text": [
      "1\n",
      "0\n",
      "1\n",
      "2\n",
      "3\n",
      "4\n",
      "5\n",
      "2\n",
      "0\n",
      "1\n",
      "2\n",
      "3\n",
      "4\n",
      "5\n",
      "3\n",
      "0\n",
      "1\n",
      "2\n",
      "3\n",
      "4\n",
      "5\n",
      "4\n",
      "0\n",
      "1\n",
      "2\n",
      "3\n",
      "4\n",
      "5\n",
      "5\n",
      "0\n",
      "1\n",
      "2\n",
      "3\n",
      "4\n",
      "5\n",
      "6\n",
      "0\n",
      "1\n",
      "2\n",
      "3\n",
      "4\n",
      "5\n"
     ]
    }
   ],
   "source": [
    "b=0\n",
    "for a in range(0,6):\n",
    "    a+=1\n",
    "    print(a)\n",
    "    a=a+1\n",
    "    for b in range(0,6):\n",
    "        print(b)"
   ]
  },
  {
   "cell_type": "code",
   "execution_count": 11,
   "id": "e4d147a5",
   "metadata": {},
   "outputs": [
    {
     "name": "stdout",
     "output_type": "stream",
     "text": [
      "1\n",
      "1 1\n",
      "1 2\n",
      "1 3\n",
      "1 4\n",
      "1 5\n",
      "2\n",
      "2 1\n",
      "2 2\n",
      "2 3\n",
      "2 4\n",
      "2 5\n",
      "3\n",
      "3 1\n",
      "3 2\n",
      "3 3\n",
      "3 4\n",
      "3 5\n",
      "4\n",
      "4 1\n",
      "4 2\n",
      "4 3\n",
      "4 4\n",
      "4 5\n",
      "5\n",
      "5 1\n",
      "6\n",
      "6 1\n",
      "6 2\n",
      "6 3\n",
      "6 4\n",
      "6 5\n",
      "7\n",
      "7 1\n",
      "7 2\n",
      "7 3\n",
      "7 4\n",
      "7 5\n",
      "8\n",
      "8 1\n",
      "8 2\n",
      "8 3\n",
      "8 4\n",
      "8 5\n",
      "9\n",
      "9 1\n",
      "9 2\n",
      "9 3\n",
      "9 4\n",
      "9 5\n"
     ]
    }
   ],
   "source": [
    "for x in range(1,10):\n",
    "    print(x)\n",
    "    for y in range(1,6):\n",
    "        print(x,y)\n",
    "        if (x==5):\n",
    "            break\n",
    "   # print(x,end=\" \")\n",
    "    "
   ]
  },
  {
   "cell_type": "code",
   "execution_count": 13,
   "id": "adc6fab8",
   "metadata": {},
   "outputs": [
    {
     "name": "stdout",
     "output_type": "stream",
     "text": [
      "1\n",
      "1 2\n",
      "1 2 3\n",
      "1 2 3 4\n",
      "1 2 3 4 5\n"
     ]
    }
   ],
   "source": [
    "for i in range(1,6):\n",
    "    for j in range(1,i):\n",
    "        print(j, end=\" \")\n",
    "    print(i)"
   ]
  },
  {
   "cell_type": "code",
   "execution_count": 14,
   "id": "66b3b1f6",
   "metadata": {},
   "outputs": [
    {
     "name": "stdout",
     "output_type": "stream",
     "text": [
      "1\n",
      "1 2\n",
      "1 2 3\n",
      "1 2 3 4\n",
      "1 2 3 4 5\n"
     ]
    }
   ],
   "source": [
    "for i in range(1,6):\n",
    "    for j in range(1,i):\n",
    "        print(j,end=\" \")\n",
    "    print(i)"
   ]
  },
  {
   "cell_type": "code",
   "execution_count": 20,
   "id": "5c8254ce",
   "metadata": {},
   "outputs": [
    {
     "name": "stdout",
     "output_type": "stream",
     "text": [
      "1\n",
      "1\n",
      "4\n",
      "27\n",
      "256\n"
     ]
    }
   ],
   "source": [
    "s=2\n",
    "n=5;\n",
    "for s in range(0,n):\n",
    "    s**=s\n",
    "    print(s)"
   ]
  },
  {
   "cell_type": "code",
   "execution_count": 30,
   "id": "c0e1135b",
   "metadata": {},
   "outputs": [
    {
     "name": "stdout",
     "output_type": "stream",
     "text": [
      "1\n",
      "1 2\n",
      "1 2 3\n",
      "1 2 3 4\n",
      "1 2 3 4 5\n"
     ]
    }
   ],
   "source": [
    "for i in range(1,6):\n",
    "    for s in range(1,i):\n",
    "        i=1+s\n",
    "        print(s,end=\" \")\n",
    "    print(i)"
   ]
  },
  {
   "cell_type": "code",
   "execution_count": null,
   "id": "2bd97d92",
   "metadata": {},
   "outputs": [],
   "source": []
  },
  {
   "cell_type": "code",
   "execution_count": null,
   "id": "5f5d147b",
   "metadata": {},
   "outputs": [],
   "source": []
  },
  {
   "cell_type": "code",
   "execution_count": 40,
   "id": "ec369ea2",
   "metadata": {
    "scrolled": true
   },
   "outputs": [
    {
     "name": "stdout",
     "output_type": "stream",
     "text": [
      "1 1 2 1 2 3 1 2 3 4 "
     ]
    }
   ],
   "source": [
    "for i in range(1,6):\n",
    "    for k in range(1,i):\n",
    "        i=1+k\n",
    "        print(k,end=\" \")\n",
    "    #print(i)"
   ]
  },
  {
   "cell_type": "code",
   "execution_count": 49,
   "id": "b33ee5d0",
   "metadata": {},
   "outputs": [
    {
     "name": "stdout",
     "output_type": "stream",
     "text": [
      "enter the number:5\n",
      "2\n",
      "24\n",
      "246\n",
      "2468\n",
      "24690\n",
      "the final answere is: 24690\n"
     ]
    }
   ],
   "source": [
    "n=int(input(\"enter the number:\"))\n",
    "s=0\n",
    "z=0\n",
    "for i in range(1,n+1):\n",
    "    z=z*10+2\n",
    "    s+=z\n",
    "    print(s)\n",
    "print(f\"the final answere is: {s}\")\n",
    "    \n",
    "    "
   ]
  },
  {
   "cell_type": "code",
   "execution_count": null,
   "id": "d3b6a0b1",
   "metadata": {},
   "outputs": [],
   "source": []
  },
  {
   "cell_type": "code",
   "execution_count": 52,
   "id": "f73c019b",
   "metadata": {},
   "outputs": [
    {
     "name": "stdout",
     "output_type": "stream",
     "text": [
      "2\n",
      "24\n",
      "246\n",
      "2468\n",
      "24690\n",
      "24690\n"
     ]
    }
   ],
   "source": [
    "s=0\n",
    "z=0\n",
    "n=5\n",
    "for i in range(1,n+1):\n",
    "    s=s*10+2\n",
    "    z+=s\n",
    "    print(z)\n",
    "print(z)"
   ]
  },
  {
   "cell_type": "code",
   "execution_count": 54,
   "id": "c2c18020",
   "metadata": {},
   "outputs": [
    {
     "name": "stdout",
     "output_type": "stream",
     "text": [
      "1\n",
      "1 2\n",
      "1 2 3\n",
      "1 2 3 4\n"
     ]
    }
   ],
   "source": [
    "for i in range(1,5):\n",
    "    for s in range(1,i):\n",
    "        i=1+s\n",
    "        print(s,end=\" \")\n",
    "    print(i)"
   ]
  },
  {
   "cell_type": "code",
   "execution_count": 55,
   "id": "2ba6080f",
   "metadata": {},
   "outputs": [
    {
     "name": "stdout",
     "output_type": "stream",
     "text": [
      "enter the number:5\n",
      "2\n",
      "24\n",
      "246\n",
      "2468\n",
      "24690\n",
      "24690\n"
     ]
    }
   ],
   "source": [
    "s=0\n",
    "z=0\n",
    "n=int(input(\"enter the number:\"))\n",
    "for i in range(1,n+1):\n",
    "    s=s*10+2\n",
    "    z+=s\n",
    "    print(z)\n",
    "print(z)"
   ]
  },
  {
   "cell_type": "code",
   "execution_count": null,
   "id": "90f334f6",
   "metadata": {},
   "outputs": [],
   "source": []
  },
  {
   "cell_type": "code",
   "execution_count": 57,
   "id": "98a9d4c6",
   "metadata": {},
   "outputs": [
    {
     "name": "stdout",
     "output_type": "stream",
     "text": [
      "1\n",
      "1 2\n",
      "1 2 3\n",
      "1 2 3 4\n",
      "1 2 3 4 5\n"
     ]
    }
   ],
   "source": [
    "for i in range(1,6):\n",
    "    for j in range(1,i):\n",
    "        i=1+j\n",
    "        print(j,end=\" \")\n",
    "    print(i)"
   ]
  },
  {
   "cell_type": "code",
   "execution_count": 58,
   "id": "24453ddb",
   "metadata": {},
   "outputs": [
    {
     "name": "stdout",
     "output_type": "stream",
     "text": [
      "enter the number:5\n",
      "2\n",
      "24\n",
      "246\n",
      "2468\n",
      "24690\n",
      "24690\n"
     ]
    }
   ],
   "source": [
    "s=0\n",
    "z=0\n",
    "n=int(input(\"enter the number:\"))\n",
    "for i in range(1,n+1):\n",
    "    s=s*10+2\n",
    "    z+=s\n",
    "    print(z)\n",
    "print(z)"
   ]
  },
  {
   "cell_type": "code",
   "execution_count": 67,
   "id": "2477b88b",
   "metadata": {},
   "outputs": [
    {
     "data": {
      "text/plain": [
       "{2}"
      ]
     },
     "execution_count": 67,
     "metadata": {},
     "output_type": "execute_result"
    }
   ],
   "source": [
    "j=0\n",
    "s=0\n",
    "p={j*10+2 for x in range(1,n+1)}\n",
    "p"
   ]
  },
  {
   "cell_type": "code",
   "execution_count": 68,
   "id": "fbdc388d",
   "metadata": {},
   "outputs": [
    {
     "name": "stdout",
     "output_type": "stream",
     "text": [
      "2\n",
      "24\n",
      "246\n",
      "2468\n",
      "24690\n",
      "24690\n"
     ]
    }
   ],
   "source": [
    "j=0\n",
    "s=0\n",
    "n=5\n",
    "for i in range(1,n+1):\n",
    "    j=j*10+2\n",
    "    s+=j\n",
    "    print(s)\n",
    "print(s)"
   ]
  },
  {
   "cell_type": "code",
   "execution_count": 82,
   "id": "298577ab",
   "metadata": {},
   "outputs": [
    {
     "ename": "SyntaxError",
     "evalue": "invalid syntax (1703369242.py, line 1)",
     "output_type": "error",
     "traceback": [
      "\u001b[1;36m  Cell \u001b[1;32mIn[82], line 1\u001b[1;36m\u001b[0m\n\u001b[1;33m    p=[x+1 for x in range(0,11), print(x) for s in range(1,10)]\u001b[0m\n\u001b[1;37m                               ^\u001b[0m\n\u001b[1;31mSyntaxError\u001b[0m\u001b[1;31m:\u001b[0m invalid syntax\n"
     ]
    }
   ],
   "source": [
    "p=[x+1 for x in range(0,11), print(x) for s in range(1,10)]\n",
    "p"
   ]
  },
  {
   "cell_type": "code",
   "execution_count": 95,
   "id": "f2fd4c0a",
   "metadata": {},
   "outputs": [
    {
     "data": {
      "text/plain": [
       "[0.0,\n",
       " 0.5,\n",
       " 1.0,\n",
       " 1.5,\n",
       " 2.0,\n",
       " 2.5,\n",
       " 3.0,\n",
       " 3.5,\n",
       " 4.0,\n",
       " 4.5,\n",
       " 5.0,\n",
       " 5.5,\n",
       " 6.0,\n",
       " 6.5,\n",
       " 7.0,\n",
       " 7.5,\n",
       " 8.0,\n",
       " 8.5,\n",
       " 9.0,\n",
       " 9.5]"
      ]
     },
     "execution_count": 95,
     "metadata": {},
     "output_type": "execute_result"
    }
   ],
   "source": [
    "p=[x/2 for x in range(0,20)]\n",
    "p"
   ]
  },
  {
   "cell_type": "code",
   "execution_count": 104,
   "id": "35982d1b",
   "metadata": {},
   "outputs": [
    {
     "name": "stdout",
     "output_type": "stream",
     "text": [
      "['even', 'odd', 'even', 'odd', 'even', 'odd', 'even', 'odd', 'even']\n"
     ]
    }
   ],
   "source": [
    "List1= [12,23,34,45,56,67,78,89,90]\n",
    "result=[\"even\" if n %2 ==0 else \"odd\" for n in List1]\n",
    "#p=[List1%2==0 for x in List1]\n",
    "print(result)"
   ]
  },
  {
   "cell_type": "code",
   "execution_count": 106,
   "id": "0df59c79",
   "metadata": {},
   "outputs": [
    {
     "data": {
      "text/plain": [
       "['even', 'odd', 'even', 'odd', 'even', 'odd', 'even', 'odd', 'even']"
      ]
     },
     "execution_count": 106,
     "metadata": {},
     "output_type": "execute_result"
    }
   ],
   "source": [
    "l=[12,23,34,45,56,67,78,89,90]\n",
    "result=[\"even\" if n%2==0 else \"odd\" for n in l]\n",
    "result"
   ]
  },
  {
   "cell_type": "code",
   "execution_count": 52,
   "id": "ef2269b2",
   "metadata": {},
   "outputs": [
    {
     "data": {
      "text/plain": [
       "\"I am siddhay my pancard number is : UDIHG7384S Who has register for vehicle no. MH-46-DM-8459 but want to buy vehicles with register number as MH 01-DB-9758 , MH-97-IJ-4996 , GJ-78-UH-9839 , GJ-63-IU-7926 as the owner's pancard number are EINOH9895J , OGJKH7953Q , ORJKH9963V , PJKJK7825Z\""
      ]
     },
     "execution_count": 52,
     "metadata": {},
     "output_type": "execute_result"
    }
   ],
   "source": [
    "note=\"I am siddhay my pancard number is : UDIHG7384S Who has register for vehicle no. MH-46-DM-8459 but want to buy vehicles with register number as MH 01-DB-9758 , MH-97-IJ-4996 , GJ-78-UH-9839 , GJ-63-IU-7926 as the owner's pancard number are EINOH9895J , OGJKH7953Q , ORJKH9963V , PJKJK7825Z\"\n",
    "note"
   ]
  },
  {
   "cell_type": "code",
   "execution_count": 53,
   "id": "5f8f9041",
   "metadata": {},
   "outputs": [
    {
     "name": "stdout",
     "output_type": "stream",
     "text": [
      "['UDIHG7384S', 'EINOH9895J', 'OGJKH7953Q', 'ORJKH9963V', 'PJKJK7825Z']\n",
      "['UDIHG7384S', 'EINOH9895J', 'OGJKH7953Q', 'ORJKH9963V', 'PJKJK7825Z']\n"
     ]
    }
   ],
   "source": [
    "import re\n",
    "x=re.findall(\"[A-Z][A-Z][A-Z][A-Z][A-Z][0-9][0-9][0-9][0-9][A-Z]\",note)\n",
    "print(x)\n",
    "X=re.findall(\"[A-Z]+[0-9]+[A-Z]\",note)\n",
    "\n",
    "print(x)"
   ]
  },
  {
   "cell_type": "code",
   "execution_count": 54,
   "id": "3c3bbbd6",
   "metadata": {},
   "outputs": [
    {
     "name": "stdout",
     "output_type": "stream",
     "text": [
      "['MH-46-DM-8459', 'MH 01-DB-9758', 'MH-97-IJ-4996', 'GJ-78-UH-9839', 'GJ-63-IU-7926']\n",
      "['MH-46-DM-8459 ', 'MH 01-DB-9758 ', 'MH-97-IJ-4996 ', 'GJ-78-UH-9839 ', 'GJ-63-IU-7926 ']\n"
     ]
    }
   ],
   "source": [
    "S=re.findall(\"[A-Z][A-Z][\\W][0-9][0-9][\\W][A-Z][A-Z][\\W][0-9][0-9][0-9][0-9]\",note)\n",
    "print(S)\n",
    "s=re.findall(\"[A-z]+[\\W]+[0-9]+[\\W]+[A-Z]+[\\W]+[0-9]+[\\s]\",note)\n",
    "print(s)"
   ]
  },
  {
   "cell_type": "code",
   "execution_count": null,
   "id": "b9a82c0d",
   "metadata": {},
   "outputs": [],
   "source": []
  },
  {
   "cell_type": "code",
   "execution_count": null,
   "id": "cb0c7a0d",
   "metadata": {},
   "outputs": [],
   "source": []
  },
  {
   "cell_type": "code",
   "execution_count": null,
   "id": "a7adcb84",
   "metadata": {},
   "outputs": [],
   "source": []
  }
 ],
 "metadata": {
  "kernelspec": {
   "display_name": "Python 3 (ipykernel)",
   "language": "python",
   "name": "python3"
  },
  "language_info": {
   "codemirror_mode": {
    "name": "ipython",
    "version": 3
   },
   "file_extension": ".py",
   "mimetype": "text/x-python",
   "name": "python",
   "nbconvert_exporter": "python",
   "pygments_lexer": "ipython3",
   "version": "3.11.5"
  }
 },
 "nbformat": 4,
 "nbformat_minor": 5
}
