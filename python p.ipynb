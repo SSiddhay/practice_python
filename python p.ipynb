{
 "cells": [
  {
   "cell_type": "code",
   "execution_count": 4,
   "id": "92c84240",
   "metadata": {},
   "outputs": [],
   "source": [
    "#pip install numpy\n",
    "import numpy as np\n"
   ]
  },
  {
   "cell_type": "code",
   "execution_count": 15,
   "id": "6aef2a8c",
   "metadata": {},
   "outputs": [
    {
     "name": "stdout",
     "output_type": "stream",
     "text": [
      "[5, 2]\n"
     ]
    },
    {
     "data": {
      "text/plain": [
       "[5, 2]"
      ]
     },
     "execution_count": 15,
     "metadata": {},
     "output_type": "execute_result"
    }
   ],
   "source": [
    "import random\n",
    "l=[random.randint(0,5),random.randint(0,5)]#m.randint()]\n",
    "print(l)\n",
    "ls=l\n",
    "ls"
   ]
  },
  {
   "cell_type": "code",
   "execution_count": 13,
   "id": "dd913335",
   "metadata": {},
   "outputs": [
    {
     "ename": "NameError",
     "evalue": "name 'np' is not defined",
     "output_type": "error",
     "traceback": [
      "\u001b[1;31m---------------------------------------------------------------------------\u001b[0m",
      "\u001b[1;31mNameError\u001b[0m                                 Traceback (most recent call last)",
      "Cell \u001b[1;32mIn[13], line 1\u001b[0m\n\u001b[1;32m----> 1\u001b[0m al\u001b[38;5;241m=\u001b[39mnp\u001b[38;5;241m.\u001b[39marray([\u001b[38;5;241m1\u001b[39m,\u001b[38;5;241m2\u001b[39m,\u001b[38;5;241m3\u001b[39m,\u001b[38;5;241m4\u001b[39m])\n",
      "\u001b[1;31mNameError\u001b[0m: name 'np' is not defined"
     ]
    }
   ],
   "source": [
    "al=np.array([1,2,3,4])"
   ]
  },
  {
   "cell_type": "code",
   "execution_count": 16,
   "id": "4daec598",
   "metadata": {},
   "outputs": [
    {
     "name": "stdout",
     "output_type": "stream",
     "text": [
      "730, 150, 905, "
     ]
    }
   ],
   "source": [
    "for num in range(3):\n",
    "    print(random.randrange(100, 999, 5), end=', ')"
   ]
  },
  {
   "cell_type": "code",
   "execution_count": 7,
   "id": "1e939563",
   "metadata": {},
   "outputs": [
    {
     "data": {
      "text/plain": [
       "array([1, 2, 3, 4])"
      ]
     },
     "execution_count": 7,
     "metadata": {},
     "output_type": "execute_result"
    }
   ],
   "source": [
    "print(al)"
   ]
  },
  {
   "cell_type": "code",
   "execution_count": 21,
   "id": "72181759",
   "metadata": {},
   "outputs": [
    {
     "name": "stdout",
     "output_type": "stream",
     "text": [
      "2\n",
      "4\n",
      "1\n"
     ]
    }
   ],
   "source": [
    "for num in range(3):\n",
    "   print(random.randrange(0,6))"
   ]
  },
  {
   "cell_type": "code",
   "execution_count": 8,
   "id": "27bb0ee5",
   "metadata": {},
   "outputs": [
    {
     "data": {
      "text/plain": [
       "numpy.ndarray"
      ]
     },
     "execution_count": 8,
     "metadata": {},
     "output_type": "execute_result"
    }
   ],
   "source": [
    "type(al)"
   ]
  },
  {
   "cell_type": "code",
   "execution_count": 25,
   "id": "eb7266e1",
   "metadata": {},
   "outputs": [
    {
     "ename": "UnboundLocalError",
     "evalue": "cannot access local variable 'st' where it is not associated with a value",
     "output_type": "error",
     "traceback": [
      "\u001b[1;31m---------------------------------------------------------------------------\u001b[0m",
      "\u001b[1;31mUnboundLocalError\u001b[0m                         Traceback (most recent call last)",
      "Cell \u001b[1;32mIn[25], line 9\u001b[0m\n\u001b[0;32m      6\u001b[0m     \u001b[38;5;28mprint\u001b[39m(st)\n\u001b[0;32m      8\u001b[0m \u001b[38;5;66;03m#if __name__ == \"__main__\":\u001b[39;00m\n\u001b[1;32m----> 9\u001b[0m main(\u001b[38;5;241m12\u001b[39m,\u001b[38;5;241m8\u001b[39m)\n",
      "Cell \u001b[1;32mIn[25], line 6\u001b[0m, in \u001b[0;36mmain\u001b[1;34m(x, y)\u001b[0m\n\u001b[0;32m      4\u001b[0m \u001b[38;5;28;01mif\u001b[39;00m(x \u001b[38;5;241m<\u001b[39m y):\n\u001b[0;32m      5\u001b[0m     st\u001b[38;5;241m=\u001b[39m \u001b[38;5;124m\"\u001b[39m\u001b[38;5;124mx is less than y\u001b[39m\u001b[38;5;124m\"\u001b[39m\n\u001b[1;32m----> 6\u001b[0m \u001b[38;5;28mprint\u001b[39m(st)\n",
      "\u001b[1;31mUnboundLocalError\u001b[0m: cannot access local variable 'st' where it is not associated with a value"
     ]
    }
   ],
   "source": [
    "def main(x,y):\n",
    "    #x,y =2,8\n",
    "    \n",
    "    if(x < y):\n",
    "        st= \"x is less than y\"\n",
    "    print(st)\n",
    "    \n",
    "#if __name__ == \"__main__\":\n",
    "main(12,8)"
   ]
  },
  {
   "cell_type": "code",
   "execution_count": 25,
   "id": "60280b06",
   "metadata": {},
   "outputs": [],
   "source": [
    "arr=np.array(list)"
   ]
  },
  {
   "cell_type": "code",
   "execution_count": 27,
   "id": "678d79c0",
   "metadata": {},
   "outputs": [
    {
     "name": "stdout",
     "output_type": "stream",
     "text": [
      "0 Jan\n",
      "1 Feb\n",
      "2 Mar\n",
      "3 April\n",
      "4 May\n",
      "5 June\n"
     ]
    }
   ],
   "source": [
    "c=0\n",
    "while c<=5:\n",
    "    #print(c)\n",
    "    c+=1\n",
    "    \n",
    "Months = [\"Jan\",\"Feb\",\"Mar\",\"April\",\"May\",\"June\"]\n",
    "for i, m in enumerate (Months):\n",
    "        print(i,m)"
   ]
  },
  {
   "cell_type": "code",
   "execution_count": 41,
   "id": "cda64fdb",
   "metadata": {},
   "outputs": [],
   "source": [
    "list=[4,5,6,7.5,'15']"
   ]
  },
  {
   "cell_type": "code",
   "execution_count": 33,
   "id": "dbf8d848",
   "metadata": {},
   "outputs": [
    {
     "name": "stdout",
     "output_type": "stream",
     "text": [
      "guru99 1\n",
      "guru99 7\n",
      "guru99 3\n"
     ]
    }
   ],
   "source": [
    "for i in '173':\n",
    " print (\"guru99\",i)"
   ]
  },
  {
   "cell_type": "code",
   "execution_count": 26,
   "id": "16c04221",
   "metadata": {},
   "outputs": [
    {
     "name": "stdout",
     "output_type": "stream",
     "text": [
      "['4' '5' '6' '7.5' 'sid']\n"
     ]
    }
   ],
   "source": [
    "print(arr)"
   ]
  },
  {
   "cell_type": "code",
   "execution_count": 34,
   "id": "c27309b2",
   "metadata": {},
   "outputs": [
    {
     "name": "stdout",
     "output_type": "stream",
     "text": [
      "Students Name: [('Tim', 18), ('Charlie', 12), ('Tiffany', 22), ('Robert', 25)]\n"
     ]
    }
   ],
   "source": [
    "Dict = {'Tim': 18,'Charlie':12,'Tiffany':22,'Robert':25}    \n",
    "print(\"Students Name: %s\" % list(Dict.items()))"
   ]
  },
  {
   "cell_type": "code",
   "execution_count": 35,
   "id": "9aa1023c",
   "metadata": {},
   "outputs": [
    {
     "name": "stdout",
     "output_type": "stream",
     "text": [
      "Charlie:12\n",
      "Robert:25\n",
      "Tiffany:22\n",
      "Tim:18\n"
     ]
    }
   ],
   "source": [
    "Dict = {'Tim': 18,'Charlie':12,'Tiffany':22,'Robert':25}\n",
    "Boys = {'Tim': 18,'Charlie':12,'Robert':25}\n",
    "Girls = {'Tiffany':22}\n",
    "Students = list(Dict.keys())\n",
    "Students.sort()\n",
    "for S in Students:\n",
    "      print(\":\".join((S,str(Dict[S]))))"
   ]
  },
  {
   "cell_type": "code",
   "execution_count": 45,
   "id": "80bfdd68",
   "metadata": {},
   "outputs": [
    {
     "name": "stdout",
     "output_type": "stream",
     "text": [
      "Length : 4\n"
     ]
    }
   ],
   "source": [
    "from functools import cmp_to_key\n",
    "Boys = {'Tim': 18,'Charlie':12,'Robert':25}\n",
    "Girls = {'Tiffany':22}    \n",
    "#print cmp(Girls, Boys)\n",
    "Dict = {'Tim': 18,'Charlie':12,'Tiffany':22,'Robert':25}    \n",
    "print(\"Length : %d\" % len (Dict))"
   ]
  },
  {
   "cell_type": "code",
   "execution_count": 21,
   "id": "b5b4fa60",
   "metadata": {},
   "outputs": [
    {
     "data": {
      "text/plain": [
       "numpy.ndarray"
      ]
     },
     "execution_count": 21,
     "metadata": {},
     "output_type": "execute_result"
    }
   ],
   "source": [
    "type(arr)"
   ]
  },
  {
   "cell_type": "code",
   "execution_count": 42,
   "id": "ce1e5356",
   "metadata": {},
   "outputs": [],
   "source": [
    "ass=np.array(list,dtype=\"int\")"
   ]
  },
  {
   "cell_type": "code",
   "execution_count": 37,
   "id": "81bfa00d",
   "metadata": {},
   "outputs": [
    {
     "data": {
      "text/plain": [
       "numpy.ndarray"
      ]
     },
     "execution_count": 37,
     "metadata": {},
     "output_type": "execute_result"
    }
   ],
   "source": [
    "type(ass)"
   ]
  },
  {
   "cell_type": "code",
   "execution_count": 43,
   "id": "d096ef51",
   "metadata": {},
   "outputs": [
    {
     "name": "stdout",
     "output_type": "stream",
     "text": [
      "[ 4  5  6  7 15]\n"
     ]
    }
   ],
   "source": [
    "print(ass)"
   ]
  },
  {
   "cell_type": "code",
   "execution_count": 44,
   "id": "8a189a96",
   "metadata": {},
   "outputs": [
    {
     "data": {
      "text/plain": [
       "array([1, 2, 3, 4, 5, 6, 7, 8, 9])"
      ]
     },
     "execution_count": 44,
     "metadata": {},
     "output_type": "execute_result"
    }
   ],
   "source": [
    "a1=np.arange(1,10)\n",
    "a1"
   ]
  },
  {
   "cell_type": "code",
   "execution_count": 46,
   "id": "0a54d06c",
   "metadata": {},
   "outputs": [
    {
     "data": {
      "text/plain": [
       "array([0, 1, 2, 3, 4, 5, 6, 7, 8, 9])"
      ]
     },
     "execution_count": 46,
     "metadata": {},
     "output_type": "execute_result"
    }
   ],
   "source": [
    "a2=np.arange(10)\n",
    "a2"
   ]
  },
  {
   "cell_type": "code",
   "execution_count": 51,
   "id": "87a4156a",
   "metadata": {},
   "outputs": [
    {
     "data": {
      "text/plain": [
       "array([-10,  -8,  -6,  -4,  -2,   0,   2,   4,   6,   8,  10,  12,  14])"
      ]
     },
     "execution_count": 51,
     "metadata": {},
     "output_type": "execute_result"
    }
   ],
   "source": [
    "a3=np.arange(-10,15,2)\n",
    "a3"
   ]
  },
  {
   "cell_type": "code",
   "execution_count": 55,
   "id": "06418603",
   "metadata": {},
   "outputs": [
    {
     "name": "stdout",
     "output_type": "stream",
     "text": [
      "[[0.68397173 0.5035716  0.31498877 0.67454795]\n",
      " [0.85711528 0.51617457 0.42969223 0.46782743]\n",
      " [0.28667476 0.72611733 0.60974586 0.96440042]\n",
      " [0.41620982 0.31875272 0.79192987 0.09782407]\n",
      " [0.86714113 0.32486935 0.87054416 0.26255924]]\n"
     ]
    }
   ],
   "source": [
    "random=np.random.rand(5,4)\n",
    "print(random)"
   ]
  },
  {
   "cell_type": "code",
   "execution_count": 65,
   "id": "2dc03553",
   "metadata": {},
   "outputs": [
    {
     "name": "stdout",
     "output_type": "stream",
     "text": [
      "[[6 2 5 3 2 3 4 3 5 4 6 2 3 5 4 4]\n",
      " [5 2 6 4 5 5 6 6 5 6 2 4 4 3 2 2]\n",
      " [3 5 6 2 3 5 5 5 5 5 5 3 6 2 6 2]\n",
      " [3 4 4 5 5 3 5 5 5 3 3 2 6 6 6 5]\n",
      " [3 3 4 3 6 6 3 4 3 4 5 2 6 3 6 5]\n",
      " [5 6 6 6 2 6 2 2 5 4 3 6 2 2 2 3]\n",
      " [3 6 4 5 4 4 4 3 5 6 5 5 5 2 5 3]\n",
      " [3 3 5 5 5 4 3 3 2 2 4 3 2 4 4 6]]\n"
     ]
    }
   ],
   "source": [
    "arr=np.random.randint(2,7,size=(8,16))\n",
    "print(arr)"
   ]
  },
  {
   "cell_type": "code",
   "execution_count": 66,
   "id": "b16bfa57",
   "metadata": {},
   "outputs": [
    {
     "data": {
      "text/plain": [
       "array([0, 0, 0, 0, 0, 0])"
      ]
     },
     "execution_count": 66,
     "metadata": {},
     "output_type": "execute_result"
    }
   ],
   "source": [
    "zero=np.zeros(6,dtype=int)\n",
    "zero"
   ]
  },
  {
   "cell_type": "code",
   "execution_count": 69,
   "id": "42dd9a00",
   "metadata": {},
   "outputs": [
    {
     "data": {
      "text/plain": [
       "array([1, 1, 1, 1, 1, 1, 1, 1, 1, 1])"
      ]
     },
     "execution_count": 69,
     "metadata": {},
     "output_type": "execute_result"
    }
   ],
   "source": [
    "a=np.ones(10,dtype=int)\n",
    "a"
   ]
  },
  {
   "cell_type": "code",
   "execution_count": 82,
   "id": "251dfca9",
   "metadata": {},
   "outputs": [
    {
     "ename": "ValueError",
     "evalue": "cannot reshape array of size 10 into shape (4,5)",
     "output_type": "error",
     "traceback": [
      "\u001b[1;31m---------------------------------------------------------------------------\u001b[0m",
      "\u001b[1;31mValueError\u001b[0m                                Traceback (most recent call last)",
      "Cell \u001b[1;32mIn[82], line 1\u001b[0m\n\u001b[1;32m----> 1\u001b[0m zero1\u001b[38;5;241m=\u001b[39mnp\u001b[38;5;241m.\u001b[39mzeros(\u001b[38;5;241m10\u001b[39m,dtype\u001b[38;5;241m=\u001b[39m\u001b[38;5;28mint\u001b[39m)\u001b[38;5;241m.\u001b[39mreshape(\u001b[38;5;241m4\u001b[39m,\u001b[38;5;241m5\u001b[39m)\n\u001b[0;32m      2\u001b[0m zero1\n",
      "\u001b[1;31mValueError\u001b[0m: cannot reshape array of size 10 into shape (4,5)"
     ]
    }
   ],
   "source": [
    "zero1=np.zeros(10,dtype=int).reshape(4,5)\n",
    "zero1"
   ]
  },
  {
   "cell_type": "code",
   "execution_count": 83,
   "id": "04913686",
   "metadata": {},
   "outputs": [
    {
     "data": {
      "text/plain": [
       "array([[1, 2],\n",
       "       [3, 4],\n",
       "       [5, 6]])"
      ]
     },
     "execution_count": 83,
     "metadata": {},
     "output_type": "execute_result"
    }
   ],
   "source": [
    "arr=np.array([1,2,3,4,5,6]).reshape(3,2)\n",
    "arr"
   ]
  },
  {
   "cell_type": "code",
   "execution_count": 85,
   "id": "8a2e9cb2",
   "metadata": {},
   "outputs": [
    {
     "data": {
      "text/plain": [
       "2"
      ]
     },
     "execution_count": 85,
     "metadata": {},
     "output_type": "execute_result"
    }
   ],
   "source": [
    "arr.ndim"
   ]
  },
  {
   "cell_type": "code",
   "execution_count": 86,
   "id": "772e03e2",
   "metadata": {},
   "outputs": [
    {
     "data": {
      "text/plain": [
       "6"
      ]
     },
     "execution_count": 86,
     "metadata": {},
     "output_type": "execute_result"
    }
   ],
   "source": [
    "arr.size"
   ]
  },
  {
   "cell_type": "code",
   "execution_count": 117,
   "id": "382cd0a7",
   "metadata": {},
   "outputs": [
    {
     "data": {
      "text/plain": [
       "(3, 4)"
      ]
     },
     "execution_count": 117,
     "metadata": {},
     "output_type": "execute_result"
    }
   ],
   "source": [
    "arr.shape"
   ]
  },
  {
   "cell_type": "code",
   "execution_count": null,
   "id": "c09dd2c7",
   "metadata": {},
   "outputs": [],
   "source": [
    "\n",
    "\n"
   ]
  },
  {
   "cell_type": "code",
   "execution_count": 87,
   "id": "5291a590",
   "metadata": {},
   "outputs": [
    {
     "data": {
      "text/plain": [
       "3"
      ]
     },
     "execution_count": 87,
     "metadata": {},
     "output_type": "execute_result"
    }
   ],
   "source": [
    "len(arr)"
   ]
  },
  {
   "cell_type": "code",
   "execution_count": 88,
   "id": "7893592d",
   "metadata": {},
   "outputs": [
    {
     "data": {
      "text/plain": [
       "array([[1, 3, 5],\n",
       "       [2, 4, 6]])"
      ]
     },
     "execution_count": 88,
     "metadata": {},
     "output_type": "execute_result"
    }
   ],
   "source": [
    "s=arr.T\n",
    "s"
   ]
  },
  {
   "cell_type": "code",
   "execution_count": 102,
   "id": "9c54a5bc",
   "metadata": {},
   "outputs": [
    {
     "data": {
      "text/plain": [
       "array([[33, 17, 12, 55],\n",
       "       [65, 32, 84, 43],\n",
       "       [54, 31, 71, 28]])"
      ]
     },
     "execution_count": 102,
     "metadata": {},
     "output_type": "execute_result"
    }
   ],
   "source": [
    "arr=np.array([[33,17,12,55],[65,32,84,43],[54,31,71,28]])\n",
    "arr"
   ]
  },
  {
   "cell_type": "code",
   "execution_count": 103,
   "id": "a72f7cd5",
   "metadata": {},
   "outputs": [
    {
     "data": {
      "text/plain": [
       "array([54, 31, 71, 28])"
      ]
     },
     "execution_count": 103,
     "metadata": {},
     "output_type": "execute_result"
    }
   ],
   "source": [
    "arr[2]"
   ]
  },
  {
   "cell_type": "code",
   "execution_count": 110,
   "id": "d2e10462",
   "metadata": {},
   "outputs": [
    {
     "data": {
      "text/plain": [
       "array([[65, 32, 84, 43],\n",
       "       [54, 31, 71, 28]])"
      ]
     },
     "execution_count": 110,
     "metadata": {},
     "output_type": "execute_result"
    }
   ],
   "source": [
    "arr[1:3]"
   ]
  },
  {
   "cell_type": "code",
   "execution_count": 122,
   "id": "31c0125e",
   "metadata": {},
   "outputs": [
    {
     "data": {
      "text/plain": [
       "array([[32, 84],\n",
       "       [31, 71]])"
      ]
     },
     "execution_count": 122,
     "metadata": {},
     "output_type": "execute_result"
    }
   ],
   "source": [
    "arr[1:3,1:3]"
   ]
  },
  {
   "cell_type": "code",
   "execution_count": 131,
   "id": "a0a1be8c",
   "metadata": {},
   "outputs": [
    {
     "data": {
      "text/plain": [
       "array([[43],\n",
       "       [28]])"
      ]
     },
     "execution_count": 131,
     "metadata": {},
     "output_type": "execute_result"
    }
   ],
   "source": [
    "arr[1:3,3:4]"
   ]
  },
  {
   "cell_type": "raw",
   "id": "18471a2f",
   "metadata": {},
   "source": []
  },
  {
   "cell_type": "code",
   "execution_count": 132,
   "id": "9986005a",
   "metadata": {},
   "outputs": [
    {
     "data": {
      "text/plain": [
       "array([[33, 17, 12, 55],\n",
       "       [65, 32, 84, 43],\n",
       "       [54, 31, 71, 28]])"
      ]
     },
     "execution_count": 132,
     "metadata": {},
     "output_type": "execute_result"
    }
   ],
   "source": [
    "arr[:]"
   ]
  },
  {
   "cell_type": "code",
   "execution_count": 133,
   "id": "20315820",
   "metadata": {},
   "outputs": [],
   "source": [
    "import numpy as mp"
   ]
  },
  {
   "cell_type": "code",
   "execution_count": 134,
   "id": "cae1a30c",
   "metadata": {},
   "outputs": [
    {
     "name": "stdout",
     "output_type": "stream",
     "text": [
      "[1 3 4 5 6]\n"
     ]
    }
   ],
   "source": [
    "a1=np.array([1,3,4,5,6])\n",
    "print(a1)"
   ]
  },
  {
   "cell_type": "code",
   "execution_count": 135,
   "id": "1610bc11",
   "metadata": {},
   "outputs": [
    {
     "data": {
      "text/plain": [
       "numpy.ndarray"
      ]
     },
     "execution_count": 135,
     "metadata": {},
     "output_type": "execute_result"
    }
   ],
   "source": [
    "type(a1)"
   ]
  },
  {
   "cell_type": "code",
   "execution_count": 137,
   "id": "502a71ed",
   "metadata": {},
   "outputs": [
    {
     "data": {
      "text/plain": [
       "'C:\\\\Users\\\\Siddhay'"
      ]
     },
     "execution_count": 137,
     "metadata": {},
     "output_type": "execute_result"
    }
   ],
   "source": [
    "import os\n",
    "os.getcwd()"
   ]
  },
  {
   "cell_type": "code",
   "execution_count": 139,
   "id": "cebfceab",
   "metadata": {},
   "outputs": [
    {
     "name": "stdout",
     "output_type": "stream",
     "text": [
      "[1 5 7 5 8 4]\n"
     ]
    },
    {
     "data": {
      "text/plain": [
       "numpy.ndarray"
      ]
     },
     "execution_count": 139,
     "metadata": {},
     "output_type": "execute_result"
    }
   ],
   "source": [
    "a2=np.array([1,5,7,5.5,8,4],dtype='int')\n",
    "print(a2)\n",
    "type(a2)"
   ]
  },
  {
   "cell_type": "code",
   "execution_count": 149,
   "id": "9abdfa32",
   "metadata": {},
   "outputs": [
    {
     "data": {
      "text/plain": [
       "array([0, 1, 2, 3, 4, 5, 6, 7, 8, 9])"
      ]
     },
     "execution_count": 149,
     "metadata": {},
     "output_type": "execute_result"
    }
   ],
   "source": [
    "a3=np.arange(0,10)\n",
    "a3"
   ]
  },
  {
   "cell_type": "code",
   "execution_count": 150,
   "id": "8906133d",
   "metadata": {},
   "outputs": [
    {
     "data": {
      "text/plain": [
       "array([0, 1, 2, 3, 4, 5, 6, 7, 8, 9])"
      ]
     },
     "execution_count": 150,
     "metadata": {},
     "output_type": "execute_result"
    }
   ],
   "source": [
    "a4=np.arange(10)\n",
    "a4"
   ]
  },
  {
   "cell_type": "code",
   "execution_count": 153,
   "id": "fae6b68c",
   "metadata": {},
   "outputs": [
    {
     "data": {
      "text/plain": [
       "array([10,  9,  8,  7,  6,  5,  4,  3,  2,  1,  0, -1, -2, -3, -4, -5, -6,\n",
       "       -7, -8, -9])"
      ]
     },
     "execution_count": 153,
     "metadata": {},
     "output_type": "execute_result"
    }
   ],
   "source": [
    "a5=np.arange(10,-10,-1)\n",
    "a5"
   ]
  },
  {
   "cell_type": "markdown",
   "id": "359052a9",
   "metadata": {},
   "source": [
    "random simulations"
   ]
  },
  {
   "cell_type": "code",
   "execution_count": 154,
   "id": "00151ce4",
   "metadata": {},
   "outputs": [
    {
     "data": {
      "text/plain": [
       "array([[0.44735365, 0.45129487, 0.13869193, 0.4362264 , 0.25631388,\n",
       "        0.63096138],\n",
       "       [0.27415117, 0.04766515, 0.25185582, 0.40169813, 0.86266912,\n",
       "        0.10924693],\n",
       "       [0.71052872, 0.95928569, 0.9107484 , 0.37839014, 0.0203895 ,\n",
       "        0.50254592],\n",
       "       [0.13765227, 0.77229807, 0.53059097, 0.69158429, 0.0459181 ,\n",
       "        0.10506955],\n",
       "       [0.38325797, 0.25063632, 0.69826177, 0.50505209, 0.420184  ,\n",
       "        0.04386429]])"
      ]
     },
     "execution_count": 154,
     "metadata": {},
     "output_type": "execute_result"
    }
   ],
   "source": [
    "r1=np.random.rand(5,6)\n",
    "r1"
   ]
  },
  {
   "cell_type": "code",
   "execution_count": 156,
   "id": "e50d3d92",
   "metadata": {},
   "outputs": [
    {
     "data": {
      "text/plain": [
       "array([[ 0.5445326 ,  2.94960104, -0.76282874,  0.49378378,  2.17006947],\n",
       "       [ 0.37541036, -0.38812831,  0.93919739,  0.29475475,  0.04544384]])"
      ]
     },
     "execution_count": 156,
     "metadata": {},
     "output_type": "execute_result"
    }
   ],
   "source": [
    "r2=np.random.randn(2,5)\n",
    "r2"
   ]
  },
  {
   "cell_type": "code",
   "execution_count": 157,
   "id": "ca94d7ad",
   "metadata": {},
   "outputs": [
    {
     "data": {
      "text/plain": [
       "array([0.36191681, 0.95127712, 0.57043363])"
      ]
     },
     "execution_count": 157,
     "metadata": {},
     "output_type": "execute_result"
    }
   ],
   "source": [
    "r3=np.random.ranf(3)\n",
    "r3"
   ]
  },
  {
   "cell_type": "code",
   "execution_count": 161,
   "id": "edb90a31",
   "metadata": {},
   "outputs": [
    {
     "data": {
      "text/plain": [
       "array([[2, 2, 4, 4, 4, 4, 4, 3],\n",
       "       [3, 4, 2, 2, 2, 3, 4, 4]])"
      ]
     },
     "execution_count": 161,
     "metadata": {},
     "output_type": "execute_result"
    }
   ],
   "source": [
    "r4=np.random.randint(2,5,size=(2,8))\n",
    "r4"
   ]
  },
  {
   "cell_type": "code",
   "execution_count": 162,
   "id": "7498e1f1",
   "metadata": {},
   "outputs": [],
   "source": [
    "r5=np.random.seed(5)##########3ask sir\n",
    "r5"
   ]
  },
  {
   "cell_type": "code",
   "execution_count": 167,
   "id": "f82f1b16",
   "metadata": {},
   "outputs": [
    {
     "name": "stdout",
     "output_type": "stream",
     "text": [
      "['1' '2' '3' '4.0' '5']\n"
     ]
    },
    {
     "data": {
      "text/plain": [
       "numpy.ndarray"
      ]
     },
     "execution_count": 167,
     "metadata": {},
     "output_type": "execute_result"
    }
   ],
   "source": [
    "r6=np.array([1,2,3,'4.0',5])\n",
    "print(r6)\n",
    "type(r6)"
   ]
  },
  {
   "cell_type": "code",
   "execution_count": 166,
   "id": "909e81fe",
   "metadata": {},
   "outputs": [
    {
     "data": {
      "text/plain": [
       "array([1. , 2. , 3. , 4.4, 5. , 6. ])"
      ]
     },
     "execution_count": 166,
     "metadata": {},
     "output_type": "execute_result"
    }
   ],
   "source": [
    "r7=np.array([1,2,3,4.4,5,6])\n",
    "r7"
   ]
  },
  {
   "cell_type": "code",
   "execution_count": 169,
   "id": "65a059d3",
   "metadata": {},
   "outputs": [
    {
     "data": {
      "text/plain": [
       "array([[0, 0, 0],\n",
       "       [0, 0, 0]])"
      ]
     },
     "execution_count": 169,
     "metadata": {},
     "output_type": "execute_result"
    }
   ],
   "source": [
    "zero=np.zeros(6,dtype=\"int\").reshape(2,3)\n",
    "zero"
   ]
  },
  {
   "cell_type": "code",
   "execution_count": 191,
   "id": "d6f1c3a1",
   "metadata": {},
   "outputs": [
    {
     "data": {
      "text/plain": [
       "array([[1, 1, 1, 1, 1],\n",
       "       [1, 1, 1, 1, 1]])"
      ]
     },
     "execution_count": 191,
     "metadata": {},
     "output_type": "execute_result"
    }
   ],
   "source": [
    "one=np.ones(10,dtype='int').reshape(2,5)\n",
    "one "
   ]
  },
  {
   "cell_type": "code",
   "execution_count": 198,
   "id": "ddb3cc31",
   "metadata": {},
   "outputs": [
    {
     "data": {
      "text/plain": [
       "6"
      ]
     },
     "execution_count": 198,
     "metadata": {},
     "output_type": "execute_result"
    }
   ],
   "source": [
    "r2d=np.array([[2,3,4],[4,5,6],[5,6,7]])\n",
    "nin=r2d[2][1]# call 6 from string\n",
    "nin"
   ]
  },
  {
   "cell_type": "code",
   "execution_count": 208,
   "id": "3d55692e",
   "metadata": {},
   "outputs": [
    {
     "name": "stdout",
     "output_type": "stream",
     "text": [
      "[[ 1  2  3]\n",
      " [ 4  5  6]\n",
      " [ 7  8  9]\n",
      " [10 11 12]]\n",
      "xxxxxxxxxxxxxxxxxxxxxxxxx\n",
      "2\n",
      "12\n"
     ]
    },
    {
     "data": {
      "text/plain": [
       "array([[ 1,  4,  7, 10],\n",
       "       [ 2,  5,  8, 11],\n",
       "       [ 3,  6,  9, 12]])"
      ]
     },
     "execution_count": 208,
     "metadata": {},
     "output_type": "execute_result"
    }
   ],
   "source": [
    "d2r=np.array([[1,2,3],[4,5,6],[7,8,9],[10,11,12]])\n",
    "print(d2r)\n",
    "print(\"xxxxxxxxxxxxxxxxxxxxxxxxx\")\n",
    "arr=d2r[2]\n",
    "arr\n",
    "print(d2r.ndim)\n",
    "print(d2r.size)\n",
    "t=d2r.T\n",
    "t"
   ]
  },
  {
   "cell_type": "markdown",
   "id": "9e3e2120",
   "metadata": {},
   "source": [
    "indexing and slicing"
   ]
  },
  {
   "cell_type": "code",
   "execution_count": 210,
   "id": "a8d0dddd",
   "metadata": {},
   "outputs": [
    {
     "name": "stdout",
     "output_type": "stream",
     "text": [
      "[[33 17 12 55]\n",
      " [65 32 87 43]\n",
      " [54 31 77 28]]\n"
     ]
    }
   ],
   "source": [
    "in1=np.array([[33,17,12,55],[65,32,87,43],[54,31,77,28]])\n",
    "print(in1)"
   ]
  },
  {
   "cell_type": "code",
   "execution_count": 216,
   "id": "6f389fd2",
   "metadata": {},
   "outputs": [
    {
     "data": {
      "text/plain": [
       "55"
      ]
     },
     "execution_count": 216,
     "metadata": {},
     "output_type": "execute_result"
    }
   ],
   "source": [
    "in1[0,3]"
   ]
  },
  {
   "cell_type": "code",
   "execution_count": 220,
   "id": "b2d3aa2f",
   "metadata": {},
   "outputs": [
    {
     "data": {
      "text/plain": [
       "array([[33, 17, 12, 55],\n",
       "       [65, 32, 87, 43],\n",
       "       [54, 31, 77, 28]])"
      ]
     },
     "execution_count": 220,
     "metadata": {},
     "output_type": "execute_result"
    }
   ],
   "source": [
    "in1[:,]"
   ]
  },
  {
   "cell_type": "code",
   "execution_count": 228,
   "id": "64abcc9d",
   "metadata": {},
   "outputs": [
    {
     "data": {
      "text/plain": [
       "array([[32, 87],\n",
       "       [31, 77]])"
      ]
     },
     "execution_count": 228,
     "metadata": {},
     "output_type": "execute_result"
    }
   ],
   "source": [
    "in1[1:,1:3]"
   ]
  },
  {
   "cell_type": "code",
   "execution_count": 232,
   "id": "3190fa98",
   "metadata": {},
   "outputs": [
    {
     "data": {
      "text/plain": [
       "array([[12]])"
      ]
     },
     "execution_count": 232,
     "metadata": {},
     "output_type": "execute_result"
    }
   ],
   "source": [
    "in1[:1,2:3]"
   ]
  },
  {
   "cell_type": "code",
   "execution_count": 233,
   "id": "0697a967",
   "metadata": {},
   "outputs": [
    {
     "data": {
      "text/plain": [
       "array([[65, 32],\n",
       "       [54, 31]])"
      ]
     },
     "execution_count": 233,
     "metadata": {},
     "output_type": "execute_result"
    }
   ],
   "source": [
    "in1[1:,:2]"
   ]
  },
  {
   "cell_type": "code",
   "execution_count": 234,
   "id": "415dafbd",
   "metadata": {},
   "outputs": [
    {
     "data": {
      "text/plain": [
       "array([32, 87])"
      ]
     },
     "execution_count": 234,
     "metadata": {},
     "output_type": "execute_result"
    }
   ],
   "source": [
    "in1[1,1:3]"
   ]
  },
  {
   "cell_type": "code",
   "execution_count": 235,
   "id": "8f7aa099",
   "metadata": {},
   "outputs": [
    {
     "name": "stdout",
     "output_type": "stream",
     "text": [
      "[[33 17 12 55]\n",
      " [65 32 87 43]\n",
      " [54 31 77 28]]\n"
     ]
    }
   ],
   "source": [
    "print(in1)"
   ]
  },
  {
   "cell_type": "code",
   "execution_count": 236,
   "id": "be510bb3",
   "metadata": {},
   "outputs": [
    {
     "data": {
      "text/plain": [
       "array([31, 77])"
      ]
     },
     "execution_count": 236,
     "metadata": {},
     "output_type": "execute_result"
    }
   ],
   "source": [
    "in1[2,1:3]"
   ]
  },
  {
   "cell_type": "code",
   "execution_count": 239,
   "id": "34dd4ad9",
   "metadata": {},
   "outputs": [
    {
     "data": {
      "text/plain": [
       "array([[17, 12]])"
      ]
     },
     "execution_count": 239,
     "metadata": {},
     "output_type": "execute_result"
    }
   ],
   "source": [
    "in1[0:1,1:3]"
   ]
  },
  {
   "cell_type": "code",
   "execution_count": 242,
   "id": "ea3e9141",
   "metadata": {},
   "outputs": [
    {
     "data": {
      "text/plain": [
       "array([12, 87, 77])"
      ]
     },
     "execution_count": 242,
     "metadata": {},
     "output_type": "execute_result"
    }
   ],
   "source": [
    "in1[:,1:3][:,1]"
   ]
  },
  {
   "cell_type": "code",
   "execution_count": 243,
   "id": "6f873bd5",
   "metadata": {},
   "outputs": [
    {
     "data": {
      "text/plain": [
       "array([17, 32, 31])"
      ]
     },
     "execution_count": 243,
     "metadata": {},
     "output_type": "execute_result"
    }
   ],
   "source": [
    "in1[:,1]"
   ]
  },
  {
   "cell_type": "code",
   "execution_count": 244,
   "id": "51a89c7b",
   "metadata": {},
   "outputs": [
    {
     "data": {
      "text/plain": [
       "array([[33, 17, 12, 55],\n",
       "       [65, 32, 87, 43],\n",
       "       [54, 31, 77, 28]])"
      ]
     },
     "execution_count": 244,
     "metadata": {},
     "output_type": "execute_result"
    }
   ],
   "source": [
    "in1"
   ]
  },
  {
   "cell_type": "code",
   "execution_count": 245,
   "id": "4e5578d1",
   "metadata": {},
   "outputs": [
    {
     "data": {
      "text/plain": [
       "array([[32, 87, 43],\n",
       "       [31, 77, 28]])"
      ]
     },
     "execution_count": 245,
     "metadata": {},
     "output_type": "execute_result"
    }
   ],
   "source": [
    "in1[1:,1:]"
   ]
  },
  {
   "cell_type": "code",
   "execution_count": 246,
   "id": "6c6c0865",
   "metadata": {},
   "outputs": [
    {
     "data": {
      "text/plain": [
       "array([[65, 32],\n",
       "       [54, 31]])"
      ]
     },
     "execution_count": 246,
     "metadata": {},
     "output_type": "execute_result"
    }
   ],
   "source": [
    "in1[1:,0:2]"
   ]
  },
  {
   "cell_type": "code",
   "execution_count": 251,
   "id": "5402fc90",
   "metadata": {},
   "outputs": [
    {
     "name": "stdout",
     "output_type": "stream",
     "text": [
      "[12 13 14 15 29 43 32 21]\n",
      "[False False False False  True  True  True  True]\n"
     ]
    }
   ],
   "source": [
    "in2=np.array([12   ,13,14,15,29,43,32,21])\n",
    "print(in2)\n",
    "print(in2>17) # boolean indexing"
   ]
  },
  {
   "cell_type": "markdown",
   "id": "4c9aca6a",
   "metadata": {},
   "source": [
    "broadcasting"
   ]
  },
  {
   "cell_type": "code",
   "execution_count": 259,
   "id": "7ebdd647",
   "metadata": {},
   "outputs": [
    {
     "name": "stdout",
     "output_type": "stream",
     "text": [
      "[100 120 140 160 180 200]\n",
      "[ 50.  60.  70.  80.  90. 100.]\n"
     ]
    }
   ],
   "source": [
    "b=np.array([10,12,14,16,18,20])\n",
    "b1=b*10\n",
    "print(b1)\n",
    "b2=b1/2\n",
    "print(b2)"
   ]
  },
  {
   "cell_type": "markdown",
   "id": "a1b96ccb",
   "metadata": {},
   "source": [
    "reshaping"
   ]
  },
  {
   "cell_type": "code",
   "execution_count": 265,
   "id": "f62f7d5f",
   "metadata": {},
   "outputs": [
    {
     "data": {
      "text/plain": [
       "array([[ 0, 11],\n",
       "       [ 1,  2],\n",
       "       [ 3,  4],\n",
       "       [ 5,  6],\n",
       "       [ 7,  8],\n",
       "       [ 9, 10]])"
      ]
     },
     "execution_count": 265,
     "metadata": {},
     "output_type": "execute_result"
    }
   ],
   "source": [
    "re=np.array([0,11,1,2,3,4,5,6,7,8,9,10])\n",
    "re.reshape(6,2)"
   ]
  },
  {
   "cell_type": "code",
   "execution_count": 266,
   "id": "88609443",
   "metadata": {},
   "outputs": [
    {
     "data": {
      "text/plain": [
       "array([[10, 11],\n",
       "       [12, 13],\n",
       "       [14, 15],\n",
       "       [16, 17],\n",
       "       [18, 19]])"
      ]
     },
     "execution_count": 266,
     "metadata": {},
     "output_type": "execute_result"
    }
   ],
   "source": [
    "ar=np.arange(10,20).reshape(5,2)\n",
    "ar"
   ]
  },
  {
   "cell_type": "code",
   "execution_count": 267,
   "id": "2b938d04",
   "metadata": {},
   "outputs": [
    {
     "data": {
      "text/plain": [
       "145"
      ]
     },
     "execution_count": 267,
     "metadata": {},
     "output_type": "execute_result"
    }
   ],
   "source": [
    "ar.sum()"
   ]
  },
  {
   "cell_type": "code",
   "execution_count": 268,
   "id": "88ffe20e",
   "metadata": {},
   "outputs": [
    {
     "data": {
      "text/plain": [
       "array([70, 75])"
      ]
     },
     "execution_count": 268,
     "metadata": {},
     "output_type": "execute_result"
    }
   ],
   "source": [
    "ar.sum(axis=0)"
   ]
  },
  {
   "cell_type": "code",
   "execution_count": 269,
   "id": "574e326c",
   "metadata": {},
   "outputs": [
    {
     "data": {
      "text/plain": [
       "array([21, 25, 29, 33, 37])"
      ]
     },
     "execution_count": 269,
     "metadata": {},
     "output_type": "execute_result"
    }
   ],
   "source": [
    "ar.sum(axis=1)"
   ]
  },
  {
   "cell_type": "code",
   "execution_count": 275,
   "id": "0559d1b3",
   "metadata": {},
   "outputs": [
    {
     "data": {
      "text/plain": [
       "array([[1, 2, 3, 4],\n",
       "       [5, 6, 7, 8]])"
      ]
     },
     "execution_count": 275,
     "metadata": {},
     "output_type": "execute_result"
    }
   ],
   "source": [
    "a1=np.arange(1,9).reshape(2,4)\n",
    "a1"
   ]
  },
  {
   "cell_type": "code",
   "execution_count": 282,
   "id": "21956ad4",
   "metadata": {},
   "outputs": [
    {
     "data": {
      "text/plain": [
       "array([[10, 11, 12, 13],\n",
       "       [14, 15, 16, 17]])"
      ]
     },
     "execution_count": 282,
     "metadata": {},
     "output_type": "execute_result"
    }
   ],
   "source": [
    "a2=np.arange(10,18).reshape(2,4)\n",
    "a2"
   ]
  },
  {
   "cell_type": "code",
   "execution_count": 283,
   "id": "096be23a",
   "metadata": {},
   "outputs": [
    {
     "data": {
      "text/plain": [
       "array([[10, 14],\n",
       "       [11, 15],\n",
       "       [12, 16],\n",
       "       [13, 17]])"
      ]
     },
     "execution_count": 283,
     "metadata": {},
     "output_type": "execute_result"
    }
   ],
   "source": [
    "a=a2.T\n",
    "a"
   ]
  },
  {
   "cell_type": "code",
   "execution_count": 284,
   "id": "e8fb5fe3",
   "metadata": {},
   "outputs": [
    {
     "data": {
      "text/plain": [
       "array([[ 1,  2,  3,  4],\n",
       "       [ 5,  6,  7,  8],\n",
       "       [10, 11, 12, 13],\n",
       "       [14, 15, 16, 17]])"
      ]
     },
     "execution_count": 284,
     "metadata": {},
     "output_type": "execute_result"
    }
   ],
   "source": [
    "a3=np.concatenate((a1,a2))\n",
    "a3"
   ]
  },
  {
   "cell_type": "code",
   "execution_count": 287,
   "id": "bbd5a40a",
   "metadata": {},
   "outputs": [],
   "source": [
    "app=a1+a2"
   ]
  },
  {
   "cell_type": "code",
   "execution_count": 288,
   "id": "f8924850",
   "metadata": {},
   "outputs": [
    {
     "data": {
      "text/plain": [
       "array([[11, 13, 15, 17],\n",
       "       [19, 21, 23, 25]])"
      ]
     },
     "execution_count": 288,
     "metadata": {},
     "output_type": "execute_result"
    }
   ],
   "source": [
    "app"
   ]
  },
  {
   "cell_type": "code",
   "execution_count": 6,
   "id": "c9e018ec",
   "metadata": {},
   "outputs": [
    {
     "data": {
      "text/plain": [
       "array([[ 2,  3, -1],\n",
       "       [-6,  0,  4]])"
      ]
     },
     "execution_count": 6,
     "metadata": {},
     "output_type": "execute_result"
    }
   ],
   "source": [
    "a1=np.array([[2,3,-1],[-6,0,4]])\n",
    "a1"
   ]
  },
  {
   "cell_type": "code",
   "execution_count": 7,
   "id": "636e369b",
   "metadata": {},
   "outputs": [
    {
     "data": {
      "text/plain": [
       "4"
      ]
     },
     "execution_count": 7,
     "metadata": {},
     "output_type": "execute_result"
    }
   ],
   "source": [
    "a1[1][2]"
   ]
  },
  {
   "cell_type": "code",
   "execution_count": 10,
   "id": "05407cfa",
   "metadata": {},
   "outputs": [
    {
     "data": {
      "text/plain": [
       "array([[4]])"
      ]
     },
     "execution_count": 10,
     "metadata": {},
     "output_type": "execute_result"
    }
   ],
   "source": [
    "a1[1:,2:]"
   ]
  },
  {
   "cell_type": "code",
   "execution_count": 11,
   "id": "98552381",
   "metadata": {},
   "outputs": [
    {
     "data": {
      "text/plain": [
       "array([[-1, 45, 38],\n",
       "       [ 7, 12,  9]])"
      ]
     },
     "execution_count": 11,
     "metadata": {},
     "output_type": "execute_result"
    }
   ],
   "source": [
    "a2=np.array([[-1,45,38],[7,12,9]])\n",
    "a2"
   ]
  },
  {
   "cell_type": "code",
   "execution_count": 12,
   "id": "ea9cecae",
   "metadata": {},
   "outputs": [
    {
     "data": {
      "text/plain": [
       "45"
      ]
     },
     "execution_count": 12,
     "metadata": {},
     "output_type": "execute_result"
    }
   ],
   "source": [
    "a2[0][1]"
   ]
  },
  {
   "cell_type": "code",
   "execution_count": 13,
   "id": "6279f390",
   "metadata": {},
   "outputs": [
    {
     "data": {
      "text/plain": [
       "array([[-1, 45],\n",
       "       [ 7, 12]])"
      ]
     },
     "execution_count": 13,
     "metadata": {},
     "output_type": "execute_result"
    }
   ],
   "source": [
    "a2[0:2,0:2]"
   ]
  },
  {
   "cell_type": "code",
   "execution_count": 16,
   "id": "6b52c6ed",
   "metadata": {},
   "outputs": [
    {
     "data": {
      "text/plain": [
       "45"
      ]
     },
     "execution_count": 16,
     "metadata": {},
     "output_type": "execute_result"
    }
   ],
   "source": [
    "a2[0,1]"
   ]
  },
  {
   "cell_type": "code",
   "execution_count": 17,
   "id": "5b305b89",
   "metadata": {},
   "outputs": [
    {
     "data": {
      "text/plain": [
       "array([[-1,  7],\n",
       "       [45, 12],\n",
       "       [38,  9]])"
      ]
     },
     "execution_count": 17,
     "metadata": {},
     "output_type": "execute_result"
    }
   ],
   "source": [
    "a3=a2.T\n",
    "a3"
   ]
  },
  {
   "cell_type": "code",
   "execution_count": null,
   "id": "7a7c0281",
   "metadata": {},
   "outputs": [],
   "source": []
  },
  {
   "cell_type": "code",
   "execution_count": 20,
   "id": "406e4204",
   "metadata": {},
   "outputs": [
    {
     "data": {
      "text/plain": [
       "array([0, 1, 2, 3, 4, 5])"
      ]
     },
     "execution_count": 20,
     "metadata": {},
     "output_type": "execute_result"
    }
   ],
   "source": [
    "a4=np.arange(6)\n",
    "a4"
   ]
  },
  {
   "cell_type": "code",
   "execution_count": 21,
   "id": "4247f318",
   "metadata": {},
   "outputs": [
    {
     "data": {
      "text/plain": [
       "array([ 0,  2,  4,  6,  8, 10])"
      ]
     },
     "execution_count": 21,
     "metadata": {},
     "output_type": "execute_result"
    }
   ],
   "source": [
    "a5=a4*2\n",
    "a5"
   ]
  },
  {
   "cell_type": "code",
   "execution_count": 22,
   "id": "8f0b9a1a",
   "metadata": {},
   "outputs": [
    {
     "name": "stdout",
     "output_type": "stream",
     "text": [
      "[[ 3  4  5]\n",
      " [ 9 10 11]\n",
      " [15 16 17]]\n",
      "[[ 8  9 10]\n",
      " [14 15 16]]\n"
     ]
    }
   ],
   "source": [
    "arr=np.arange(1,19).reshape(3,6)\n",
    "arr\n",
    "\n",
    "array_1=arr[0:3,2:5]\n",
    "\n",
    "array_2=arr[1:4,1:4]\n",
    "\n",
    "print(array_1)\n",
    "print(array_2)\n"
   ]
  },
  {
   "cell_type": "code",
   "execution_count": 29,
   "id": "47d22465",
   "metadata": {},
   "outputs": [
    {
     "data": {
      "text/plain": [
       "[2, 4, 6, 8, 10]"
      ]
     },
     "execution_count": 29,
     "metadata": {},
     "output_type": "execute_result"
    }
   ],
   "source": [
    "no=[1,2,3,4,5,6,7,8,9,10]\n",
    "f=filter(lambda x:x%2==0,no)\n",
    "even=list(f)\n",
    "even"
   ]
  },
  {
   "cell_type": "code",
   "execution_count": 31,
   "id": "1c4237a9",
   "metadata": {},
   "outputs": [
    {
     "data": {
      "text/plain": [
       "[1, 3, 5, 7, 9]"
      ]
     },
     "execution_count": 31,
     "metadata": {},
     "output_type": "execute_result"
    }
   ],
   "source": [
    "f=filter(lambda y:y%2!=0,no)\n",
    "odd=list(f)\n",
    "odd"
   ]
  },
  {
   "cell_type": "code",
   "execution_count": 38,
   "id": "8479673c",
   "metadata": {},
   "outputs": [
    {
     "name": "stdout",
     "output_type": "stream",
     "text": [
      "Enter the number: 4\n",
      "the final result 4 is : 24\n"
     ]
    }
   ],
   "source": [
    "def factorial(n):\n",
    "    if n==0:\n",
    "        return 1\n",
    "    else:\n",
    "        return n * factorial(n-1)\n",
    "    \n",
    "num = int(input(\"Enter the number: \"))\n",
    "result=factorial(num)\n",
    "print(f\"the final result {num} is : {result}\")"
   ]
  },
  {
   "cell_type": "code",
   "execution_count": 40,
   "id": "9255c471",
   "metadata": {},
   "outputs": [
    {
     "name": "stdout",
     "output_type": "stream",
     "text": [
      "64\n"
     ]
    }
   ],
   "source": [
    "x=lambda y:y**2\n",
    "print(x(8))"
   ]
  },
  {
   "cell_type": "code",
   "execution_count": 43,
   "id": "a0f0e5ae",
   "metadata": {},
   "outputs": [
    {
     "name": "stdout",
     "output_type": "stream",
     "text": [
      "enter your number : 8\n",
      "64\n"
     ]
    }
   ],
   "source": [
    "y=int(input('enter your number : '))\n",
    "\n",
    "x=y**2\n",
    "print(x)"
   ]
  },
  {
   "cell_type": "code",
   "execution_count": 45,
   "id": "a1fdda65",
   "metadata": {},
   "outputs": [
    {
     "name": "stdout",
     "output_type": "stream",
     "text": [
      "12\n"
     ]
    }
   ],
   "source": [
    "x=lambda a,b:a+b\n",
    "print(x(5,7))"
   ]
  },
  {
   "cell_type": "code",
   "execution_count": 46,
   "id": "c0ff20ea",
   "metadata": {},
   "outputs": [
    {
     "name": "stdout",
     "output_type": "stream",
     "text": [
      "the list is :  [2, 10, 9, 56, 53, 83, 16]\n",
      "the even number from the strings are :[2, 10, 56, 16]\n"
     ]
    }
   ],
   "source": [
    "l=[2,10,9,56,53,83,16]\n",
    "print(\"the list is : \",l)\n",
    "x=list(filter(lambda a:a%2==0,l))\n",
    "print(f\"the even number from the strings are :{x}\")"
   ]
  },
  {
   "cell_type": "code",
   "execution_count": 53,
   "id": "56f8695d",
   "metadata": {},
   "outputs": [
    {
     "name": "stdout",
     "output_type": "stream",
     "text": [
      "enter the number: 5\n",
      "the factorial of 5 is: 120\n"
     ]
    }
   ],
   "source": [
    "num = int(input(\"enter the number: \"))\n",
    "def factorial(n):\n",
    "    if n==0:\n",
    "        return 1\n",
    "    \n",
    "    return n * factorial(n-1)\n",
    "    \n",
    "result=factorial(num)\n",
    "print(f\"the factorial of {num} is: {result}\")"
   ]
  },
  {
   "cell_type": "code",
   "execution_count": 9,
   "id": "53588740",
   "metadata": {},
   "outputs": [
    {
     "ename": "TypeError",
     "evalue": "'numpy.dtype[int32]' object is not callable",
     "output_type": "error",
     "traceback": [
      "\u001b[1;31m---------------------------------------------------------------------------\u001b[0m",
      "\u001b[1;31mTypeError\u001b[0m                                 Traceback (most recent call last)",
      "Cell \u001b[1;32mIn[9], line 3\u001b[0m\n\u001b[0;32m      1\u001b[0m arr\u001b[38;5;241m=\u001b[39mnp\u001b[38;5;241m.\u001b[39marray(\u001b[38;5;241m50\u001b[39m)\n\u001b[0;32m      2\u001b[0m arr\n\u001b[1;32m----> 3\u001b[0m arr\u001b[38;5;241m.\u001b[39mdtype()\n",
      "\u001b[1;31mTypeError\u001b[0m: 'numpy.dtype[int32]' object is not callable"
     ]
    }
   ],
   "source": [
    "arr=np.array(50)\n",
    "arr\n",
    "arr.dtype()"
   ]
  },
  {
   "cell_type": "code",
   "execution_count": 12,
   "id": "533affa7",
   "metadata": {},
   "outputs": [
    {
     "data": {
      "text/plain": [
       "dtype('int32')"
      ]
     },
     "execution_count": 12,
     "metadata": {},
     "output_type": "execute_result"
    }
   ],
   "source": [
    "arr=np.arange(20)\n",
    "arr\n",
    "arr.dtype"
   ]
  },
  {
   "cell_type": "code",
   "execution_count": 15,
   "id": "2e046642",
   "metadata": {},
   "outputs": [
    {
     "data": {
      "text/plain": [
       "array([20., 21., 22., 23.])"
      ]
     },
     "execution_count": 15,
     "metadata": {},
     "output_type": "execute_result"
    }
   ],
   "source": [
    "import numpy as np\n",
    "arr=np.array([20,21,22,23])\n",
    "arr.astype(float)"
   ]
  },
  {
   "cell_type": "code",
   "execution_count": 18,
   "id": "f9beb5eb",
   "metadata": {},
   "outputs": [
    {
     "name": "stdout",
     "output_type": "stream",
     "text": [
      "[1 2 3]\n",
      "[1 2 3]\n"
     ]
    }
   ],
   "source": [
    "import numpy as np\n",
    "dict={'a':1,'b':2,'c':3}\n",
    "dict1=np.array(list(dict.values()))\n",
    "\n",
    "\n",
    "dict2=np.asarray(list(dict.values()))\n",
    "print(dict1)\n",
    "print(dict2)"
   ]
  },
  {
   "cell_type": "code",
   "execution_count": 20,
   "id": "c721c297",
   "metadata": {},
   "outputs": [
    {
     "name": "stdout",
     "output_type": "stream",
     "text": [
      "NumPy array from dictionary (using array method): [1 2 3]\n",
      "NumPy array from dictionary (using asarray method): [1 2 3]\n"
     ]
    }
   ],
   "source": [
    "import numpy as np\n",
    "\n",
    "# Sample dictionary\n",
    "my_dict = {'a': 1, 'b': 2, 'c': 3}\n",
    "\n",
    "# Using numpy.array\n",
    "array_from_dict1 = np.array(list(my_dict.values()))\n",
    "\n",
    "# Using numpy.asarray\n",
    "array_from_dict2 = np.asarray(list(my_dict.values()))\n",
    "\n",
    "print(\"NumPy array from dictionary (using array method):\", array_from_dict1)\n",
    "print(\"NumPy array from dictionary (using asarray method):\", array_from_dict2)"
   ]
  },
  {
   "cell_type": "code",
   "execution_count": 23,
   "id": "96359c38",
   "metadata": {},
   "outputs": [
    {
     "name": "stdout",
     "output_type": "stream",
     "text": [
      "Column_Name\n",
      "A    3\n",
      "B    2\n",
      "C    1\n",
      "Name: count, dtype: int64\n"
     ]
    }
   ],
   "source": [
    "import pandas as pd\n",
    "df = pd.DataFrame({'Column_Name': ['A', 'B', 'A', 'C', 'B', 'A']})\n",
    "counts = df['Column_Name'].value_counts()\n",
    "print(counts)"
   ]
  },
  {
   "cell_type": "code",
   "execution_count": null,
   "id": "5184eed1",
   "metadata": {},
   "outputs": [],
   "source": [
    "import pandas as pd\n",
    "\n",
    "# Create a sample DataFrame\n",
    "data = {'Column_Name': ['A', 'B', 'A', 'C', 'B', 'A']}\n",
    "df = pd.DataFrame(data)\n",
    "\n",
    "# Get frequency counts of unique items in the specified column\n",
    "frequency_counts = df['Column_Name'].value_counts()\n",
    "\n",
    "# Display the result\n",
    "print(frequency_counts)"
   ]
  }
 ],
 "metadata": {
  "kernelspec": {
   "display_name": "Python 3 (ipykernel)",
   "language": "python",
   "name": "python3"
  },
  "language_info": {
   "codemirror_mode": {
    "name": "ipython",
    "version": 3
   },
   "file_extension": ".py",
   "mimetype": "text/x-python",
   "name": "python",
   "nbconvert_exporter": "python",
   "pygments_lexer": "ipython3",
   "version": "3.11.5"
  }
 },
 "nbformat": 4,
 "nbformat_minor": 5
}
