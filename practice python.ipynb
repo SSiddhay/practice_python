{
 "cells": [
  {
   "cell_type": "code",
   "execution_count": 14,
   "id": "bdc23e59",
   "metadata": {},
   "outputs": [
    {
     "name": "stdout",
     "output_type": "stream",
     "text": [
      "febonasi series :\n",
      "0\n",
      "1\n",
      "1\n",
      "2\n",
      "3\n",
      "5\n",
      "8\n",
      "13\n",
      "21\n",
      "34\n"
     ]
    }
   ],
   "source": [
    "a=0\n",
    "b=1\n",
    "n=10\n",
    "print(f\"febonasi series :\")\n",
    "print(a)\n",
    "print(b)\n",
    "for i in range(2,n):\n",
    "\n",
    "    c=a+b\n",
    "    a=b\n",
    "    b=c\n",
    "    print(c)\n",
    "\n"
   ]
  },
  {
   "cell_type": "code",
   "execution_count": 18,
   "id": "21129a79",
   "metadata": {},
   "outputs": [
    {
     "name": "stdout",
     "output_type": "stream",
     "text": [
      "is palamdrome\n"
     ]
    }
   ],
   "source": [
    "def ispla(string):\n",
    "    ls=string[::-1]\n",
    "    return string==ls\n",
    "  \n",
    "word=\"madam\"\n",
    "if ispla(word):\n",
    "    print(\"is palamdrome\")\n",
    "else:\n",
    "    print('not palandrome')"
   ]
  },
  {
   "cell_type": "code",
   "execution_count": 37,
   "id": "63235652",
   "metadata": {},
   "outputs": [
    {
     "name": "stdout",
     "output_type": "stream",
     "text": [
      "factorial of 5 is  [] \n"
     ]
    }
   ],
   "source": [
    "import math\n",
    "s=[]\n",
    "def fac(n):\n",
    "    if n==0:\n",
    "        return 1\n",
    "    else:\n",
    "        return s== n* math.factorial(n-1)\n",
    "\n",
    "num=5\n",
    "fac(num)\n",
    "print(f\"factorial of {num} is  {s} \")"
   ]
  },
  {
   "cell_type": "code",
   "execution_count": 31,
   "id": "6d169f89",
   "metadata": {},
   "outputs": [
    {
     "name": "stdout",
     "output_type": "stream",
     "text": [
      "The factorial of 23 is : 25852016738884976640000\n"
     ]
    }
   ],
   "source": [
    "  \n",
    "# Python code to demonstrate math.factorial()\n",
    "import math\n",
    " \n",
    "print(\"The factorial of 23 is : \", end=\"\")\n",
    "print(math.factorial(23))"
   ]
  },
  {
   "cell_type": "code",
   "execution_count": 39,
   "id": "c97fbcc1",
   "metadata": {},
   "outputs": [
    {
     "name": "stdout",
     "output_type": "stream",
     "text": [
      "factorial for 5 is 120\n"
     ]
    }
   ],
   "source": [
    "n=5\n",
    "fact=1\n",
    "for i in range(1,(n+1)):\n",
    "    fact=fact*i\n",
    "    \n",
    "print(f\"factorial for {n} is {fact}\")"
   ]
  },
  {
   "cell_type": "code",
   "execution_count": 49,
   "id": "3799ad74",
   "metadata": {},
   "outputs": [
    {
     "name": "stdout",
     "output_type": "stream",
     "text": [
      "<class 'decimal.Decimal'>\n"
     ]
    }
   ],
   "source": [
    "import decimal\n",
    "int=10\n",
    "print(type(decimal.Decimal(int)))"
   ]
  },
  {
   "cell_type": "code",
   "execution_count": 50,
   "id": "d9b9906f",
   "metadata": {},
   "outputs": [
    {
     "name": "stdout",
     "output_type": "stream",
     "text": [
      "jkinivgneinei\n"
     ]
    }
   ],
   "source": [
    "s=\"ieniengvinikj\"\n",
    "print(s[::-1])"
   ]
  },
  {
   "cell_type": "code",
   "execution_count": 54,
   "id": "c1919436",
   "metadata": {},
   "outputs": [
    {
     "name": "stdout",
     "output_type": "stream",
     "text": [
      "10\n"
     ]
    }
   ],
   "source": [
    "v='a,e,i,o,u'\n",
    "s='hi i am siddhay how are you'\n",
    "c=0\n",
    "for i in s:\n",
    "    if i in v:\n",
    "        c+=1\n",
    "print(c)\n",
    "    "
   ]
  },
  {
   "cell_type": "code",
   "execution_count": 57,
   "id": "6133156d",
   "metadata": {},
   "outputs": [
    {
     "name": "stdout",
     "output_type": "stream",
     "text": [
      "15\n"
     ]
    }
   ],
   "source": [
    "w=\"iiaenfnikeanfvifiosjcnvb \"\n",
    "v='a,e,i,o,u'\n",
    "c=0\n",
    "for i in w:\n",
    "    if i not in v:\n",
    "        c+=1\n",
    "print(c)"
   ]
  },
  {
   "cell_type": "code",
   "execution_count": 60,
   "id": "ff07a5a6",
   "metadata": {},
   "outputs": [
    {
     "name": "stdout",
     "output_type": "stream",
     "text": [
      "5\n"
     ]
    }
   ],
   "source": [
    "o=\"d\"\n",
    "w=\"siddhadddy\"\n",
    "c=0\n",
    "for i in w:\n",
    "    if o in i:\n",
    "        c+=1\n",
    "print(c)"
   ]
  },
  {
   "cell_type": "code",
   "execution_count": 65,
   "id": "0a1113e4",
   "metadata": {},
   "outputs": [
    {
     "name": "stdout",
     "output_type": "stream",
     "text": [
      "0\n",
      "1\n",
      "1\n",
      "2\n",
      "3\n",
      "5\n"
     ]
    }
   ],
   "source": [
    "a=0\n",
    "n=5\n",
    "b=1\n",
    "print(a)\n",
    "print(b)\n",
    "for i in range(2,(n+1)):\n",
    "    c=a+b\n",
    "    a=b\n",
    "    b=c\n",
    "    print(c)"
   ]
  },
  {
   "cell_type": "code",
   "execution_count": 82,
   "id": "bf663182",
   "metadata": {},
   "outputs": [
    {
     "name": "stdout",
     "output_type": "stream",
     "text": [
      "16464\n"
     ]
    }
   ],
   "source": [
    "ls=[16,6464,16464,6,46,664,6]\n",
    "m=ls[0]\n",
    "for i in ls:\n",
    "    if i>m:\n",
    "        m=i\n",
    "print(m)"
   ]
  },
  {
   "cell_type": "code",
   "execution_count": 21,
   "id": "16c715ce",
   "metadata": {},
   "outputs": [
    {
     "name": "stdout",
     "output_type": "stream",
     "text": [
      "is not palandrome\n"
     ]
    }
   ],
   "source": [
    "def ispal(string):\n",
    "    ls=string[::-1]\n",
    "    return string==ls\n",
    "word=\"madafm\"\n",
    "if ispal(word):\n",
    "    print(\"is palandrome\")\n",
    "else:\n",
    "    print(\"is not palandrome\")"
   ]
  },
  {
   "cell_type": "code",
   "execution_count": 46,
   "id": "1e197db0",
   "metadata": {},
   "outputs": [
    {
     "name": "stdout",
     "output_type": "stream",
     "text": [
      "factorial of 23 is 25852016738884976640000\n"
     ]
    }
   ],
   "source": [
    "n=23\n",
    "fact=1\n",
    "for i in range(1,(n+1)):\n",
    "    fact=fact*i\n",
    "print(f'factorial of {n} is {fact}')"
   ]
  },
  {
   "cell_type": "code",
   "execution_count": 56,
   "id": "9b4872af",
   "metadata": {},
   "outputs": [
    {
     "name": "stdout",
     "output_type": "stream",
     "text": [
      "7\n"
     ]
    }
   ],
   "source": [
    "v=\"a,e,i,o,u\"\n",
    "word='kingkisnedfkifniefik'\n",
    "c=0\n",
    "for i in word:\n",
    "    if i in v:\n",
    "        c+=1\n",
    "print(c)"
   ]
  },
  {
   "cell_type": "code",
   "execution_count": 72,
   "id": "a270dbdf",
   "metadata": {},
   "outputs": [
    {
     "name": "stdout",
     "output_type": "stream",
     "text": [
      "0\n",
      "1\n",
      "1\n",
      "2\n",
      "3\n",
      "5\n",
      "8\n",
      "13\n",
      "21\n",
      "34\n"
     ]
    }
   ],
   "source": [
    "a=0\n",
    "b=1\n",
    "n=10\n",
    "print(a)\n",
    "print(b)\n",
    "for i in range(2,(n)):\n",
    "    c=a+b\n",
    "    a=b\n",
    "    b=c\n",
    "    print(c)"
   ]
  },
  {
   "cell_type": "code",
   "execution_count": 79,
   "id": "13448abc",
   "metadata": {},
   "outputs": [
    {
     "name": "stdout",
     "output_type": "stream",
     "text": [
      "54\n"
     ]
    }
   ],
   "source": [
    "ls=[10,52,5,45,54,52]\n",
    "s=ls[0]\n",
    "\n",
    "for i in ls:\n",
    "    if i > s:\n",
    "        s=i\n",
    "print(s)\n",
    "       "
   ]
  },
  {
   "cell_type": "code",
   "execution_count": 76,
   "id": "7bea416f",
   "metadata": {},
   "outputs": [
    {
     "name": "stdout",
     "output_type": "stream",
     "text": [
      "125\n"
     ]
    }
   ],
   "source": [
    "numberList = [15, 85, 35, 89, 125]\n",
    "\n",
    "maxNum = numberList[0]\n",
    "for num in numberList:\n",
    "    if maxNum < num:\n",
    "        maxNum = num\n",
    "print(maxNum)"
   ]
  },
  {
   "cell_type": "code",
   "execution_count": 88,
   "id": "6f7a0e07",
   "metadata": {},
   "outputs": [
    {
     "ename": "TypeError",
     "evalue": "'int' object is not callable",
     "output_type": "error",
     "traceback": [
      "\u001b[1;31m---------------------------------------------------------------------------\u001b[0m",
      "\u001b[1;31mTypeError\u001b[0m                                 Traceback (most recent call last)",
      "Cell \u001b[1;32mIn[88], line 2\u001b[0m\n\u001b[0;32m      1\u001b[0m lss\u001b[38;5;241m=\u001b[39m\u001b[38;5;124m\"\u001b[39m\u001b[38;5;124m55,6464,64,645,431,6\u001b[39m\u001b[38;5;124m\"\u001b[39m\n\u001b[1;32m----> 2\u001b[0m ls\u001b[38;5;241m=\u001b[39m\u001b[38;5;28mint\u001b[39m(ls)\n\u001b[0;32m      3\u001b[0m ls\u001b[38;5;241m=\u001b[39m\u001b[38;5;28mlist\u001b[39m(lss)\n\u001b[0;32m      4\u001b[0m m\u001b[38;5;241m=\u001b[39mls[\u001b[38;5;241m0\u001b[39m]\n",
      "\u001b[1;31mTypeError\u001b[0m: 'int' object is not callable"
     ]
    }
   ],
   "source": [
    "lss=\"55,6464,64,645,431,6\"\n",
    "ls=int(ls)\n",
    "ls=list(lss)\n",
    "m=ls[0]\n",
    "for i in ls:\n",
    "    if m>i:\n",
    "        m=i\n",
    "print(m)"
   ]
  },
  {
   "cell_type": "code",
   "execution_count": 102,
   "id": "6c266a0e",
   "metadata": {},
   "outputs": [
    {
     "name": "stdout",
     "output_type": "stream",
     "text": [
      "3\n"
     ]
    },
    {
     "data": {
      "text/plain": [
       "2"
      ]
     },
     "execution_count": 102,
     "metadata": {},
     "output_type": "execute_result"
    }
   ],
   "source": [
    "ls=[1,2,3,4,5]\n",
    "#m=int((len((ls)/2))\n",
    "\n",
    "m=len(ls)//2\n",
    "print(ls[m])\n",
    "m"
   ]
  },
  {
   "cell_type": "code",
   "execution_count": 96,
   "id": "9feab71f",
   "metadata": {},
   "outputs": [
    {
     "ename": "TypeError",
     "evalue": "'int' object is not callable",
     "output_type": "error",
     "traceback": [
      "\u001b[1;31m---------------------------------------------------------------------------\u001b[0m",
      "\u001b[1;31mTypeError\u001b[0m                                 Traceback (most recent call last)",
      "Cell \u001b[1;32mIn[96], line 2\u001b[0m\n\u001b[0;32m      1\u001b[0m numList \u001b[38;5;241m=\u001b[39m [\u001b[38;5;241m1\u001b[39m, \u001b[38;5;241m2\u001b[39m, \u001b[38;5;241m3\u001b[39m, \u001b[38;5;241m4\u001b[39m, \u001b[38;5;241m5\u001b[39m]\n\u001b[1;32m----> 2\u001b[0m midElement \u001b[38;5;241m=\u001b[39m \u001b[38;5;28mint\u001b[39m((\u001b[38;5;28mlen\u001b[39m(numList)\u001b[38;5;241m/\u001b[39m\u001b[38;5;241m/\u001b[39m\u001b[38;5;241m2\u001b[39m)) \n\u001b[0;32m      4\u001b[0m \u001b[38;5;28mprint\u001b[39m(numList[midElement])\n",
      "\u001b[1;31mTypeError\u001b[0m: 'int' object is not callable"
     ]
    }
   ],
   "source": [
    "numList = [1, 2, 3, 4, 5]\n",
    "midElement = int((len(numList)//2)) \n",
    "\n",
    "print(numList[midElement])"
   ]
  },
  {
   "cell_type": "code",
   "execution_count": 97,
   "id": "6fbf0064",
   "metadata": {},
   "outputs": [
    {
     "name": "stdout",
     "output_type": "stream",
     "text": [
      "3\n"
     ]
    }
   ],
   "source": [
    "numList = [1, 2, 3, 4, 5]\n",
    "midElement = len(numList) // 2\n",
    "print(numList[midElement])"
   ]
  },
  {
   "cell_type": "code",
   "execution_count": 104,
   "id": "5ea2acb3",
   "metadata": {},
   "outputs": [
    {
     "name": "stdout",
     "output_type": "stream",
     "text": [
      "69431\n"
     ]
    }
   ],
   "source": [
    "ls=[1,6,6,69431,6464,6461]\n",
    "m=len(ls)//2\n",
    "print(ls[m])"
   ]
  },
  {
   "cell_type": "code",
   "execution_count": 105,
   "id": "2ad2910d",
   "metadata": {},
   "outputs": [
    {
     "name": "stdout",
     "output_type": "stream",
     "text": [
      "1\n"
     ]
    }
   ],
   "source": [
    "ls=[64,64,6464,1,32,3164,1]\n",
    "m=len(ls)//2\n",
    "print(ls[m])"
   ]
  },
  {
   "cell_type": "code",
   "execution_count": 108,
   "id": "32b3b6a6",
   "metadata": {},
   "outputs": [
    {
     "name": "stdout",
     "output_type": "stream",
     "text": [
      "6464\n"
     ]
    }
   ],
   "source": [
    "ml=0\n",
    "for i in ls:\n",
    "    if i>ml:\n",
    "        ml=i\n",
    "print(ml)"
   ]
  },
  {
   "cell_type": "code",
   "execution_count": 4,
   "id": "f1be1dd5",
   "metadata": {},
   "outputs": [
    {
     "name": "stdout",
     "output_type": "stream",
     "text": [
      "enter the number7\n",
      "0\n",
      "1\n",
      "1\n",
      "2\n",
      "3\n",
      "5\n",
      "8\n"
     ]
    }
   ],
   "source": [
    "a=0\n",
    "b=1\n",
    "n=int(input(\"enter the number\"))\n",
    "print(a)\n",
    "print(b)\n",
    "for i in range(2,n):\n",
    "    c=a+b\n",
    "    a=b\n",
    "    b=c\n",
    "    print(c)"
   ]
  },
  {
   "cell_type": "code",
   "execution_count": 8,
   "id": "08761fe9",
   "metadata": {},
   "outputs": [
    {
     "name": "stdout",
     "output_type": "stream",
     "text": [
      "4\n"
     ]
    }
   ],
   "source": [
    "ls=[5,5,464,4,4,565,555]\n",
    "max1=ls[0]\n",
    "for i in ls:\n",
    "    if i <max1:\n",
    "        max1=i\n",
    "print(max1)"
   ]
  },
  {
   "cell_type": "code",
   "execution_count": 13,
   "id": "b991c98a",
   "metadata": {},
   "outputs": [
    {
     "name": "stdout",
     "output_type": "stream",
     "text": [
      "[5, 464, 4, 565, 555]\n"
     ]
    }
   ],
   "source": [
    "ls\n",
    "m=[]\n",
    "for i in ls:\n",
    "    if i not in m:\n",
    "        m.append(i)\n",
    "print(m)"
   ]
  },
  {
   "cell_type": "code",
   "execution_count": 17,
   "id": "b1ad92d1",
   "metadata": {},
   "outputs": [
    {
     "name": "stdout",
     "output_type": "stream",
     "text": [
      "[5, 464, 4, 565, 555]\n"
     ]
    }
   ],
   "source": [
    "ls\n",
    "d=[]\n",
    "for i in ls:\n",
    "    if i not in d:\n",
    "        d.append(i)\n",
    "print(d)"
   ]
  },
  {
   "cell_type": "code",
   "execution_count": 22,
   "id": "5b2594ff",
   "metadata": {},
   "outputs": [
    {
     "data": {
      "text/plain": [
       "'mnk'"
      ]
     },
     "execution_count": 22,
     "metadata": {},
     "output_type": "execute_result"
    }
   ],
   "source": [
    "s='knknnm'\n",
    "s1=''.join(set(s))\n",
    "s1"
   ]
  },
  {
   "cell_type": "code",
   "execution_count": 23,
   "id": "0440c045",
   "metadata": {},
   "outputs": [
    {
     "data": {
      "text/plain": [
       "{'k', 'm', 'n'}"
      ]
     },
     "execution_count": 23,
     "metadata": {},
     "output_type": "execute_result"
    }
   ],
   "source": [
    "s2=set(s)\n",
    "s2"
   ]
  },
  {
   "cell_type": "code",
   "execution_count": 26,
   "id": "bfcaaf28",
   "metadata": {},
   "outputs": [
    {
     "name": "stdout",
     "output_type": "stream",
     "text": [
      "['k', 'n', 'm']\n"
     ]
    }
   ],
   "source": [
    "r=[]\n",
    "for i in s:\n",
    "    if i not in r:\n",
    "        r.append(i)\n",
    "print(r)"
   ]
  },
  {
   "cell_type": "code",
   "execution_count": 32,
   "id": "fe136185",
   "metadata": {},
   "outputs": [
    {
     "name": "stdout",
     "output_type": "stream",
     "text": [
      "['n', 'B', 'i', 'k', ' ', 'u', 'r', 'b', 'j', 'g', 'h', '8', '9', 'w', 'o']\n",
      "['n', 'B', 'i', 'k', ' ', 'u', 'r', 'b', 'j', 'g', 'h', '8', '9', 'w', 'o']\n",
      "nBik urbjgh89wo\n"
     ]
    }
   ],
   "source": [
    "s=\"nBikn unrubu ijirgihi8gj uhuhu9hg8hrwoi\"\n",
    "r=[]\n",
    "for i in s:\n",
    "    if i not in r:\n",
    "        r.append(i)\n",
    "ans=str(r)\n",
    "print(ans)\n",
    "print(r)\n",
    "result=''.join(r)\n",
    "result\n",
    "res=\"\".join(r)\n",
    "print(res)"
   ]
  },
  {
   "cell_type": "code",
   "execution_count": 37,
   "id": "ab595633",
   "metadata": {},
   "outputs": [
    {
     "name": "stdout",
     "output_type": "stream",
     "text": [
      "middle element is :  5\n"
     ]
    }
   ],
   "source": [
    "s=[1,5,51,15,5,58,4,5]\n",
    "m=len(s)//2\n",
    "m\n",
    "print(\"middle element is : \",s[m])"
   ]
  },
  {
   "cell_type": "code",
   "execution_count": 45,
   "id": "3957a5e8",
   "metadata": {},
   "outputs": [
    {
     "name": "stdout",
     "output_type": "stream",
     "text": [
      "<class 'str'>\n",
      "nBikn unrubu ijirgihi8gj uhuhu9hg8hrwoi\n"
     ]
    }
   ],
   "source": [
    "xs=['nBikn unrubu ','ijirgihi8gj ','uhuhu9hg8hrwoi']\n",
    "st=''.join(xs)\n",
    "print(type(st))\n",
    "print(st)"
   ]
  },
  {
   "cell_type": "code",
   "execution_count": 48,
   "id": "eee9234a",
   "metadata": {},
   "outputs": [
    {
     "data": {
      "text/plain": [
       "'nBikn unrubu ijirgihi8gj uhuhu9hg8hrwoi'"
      ]
     },
     "execution_count": 48,
     "metadata": {},
     "output_type": "execute_result"
    }
   ],
   "source": [
    "lst=''.join(xs)\n",
    "lst"
   ]
  },
  {
   "cell_type": "code",
   "execution_count": 42,
   "id": "93b4358c",
   "metadata": {},
   "outputs": [
    {
     "data": {
      "text/plain": [
       "[1, 5, 51, 15, 5, 58, 4, 5]"
      ]
     },
     "execution_count": 42,
     "metadata": {},
     "output_type": "execute_result"
    }
   ],
   "source": [
    "s"
   ]
  },
  {
   "cell_type": "code",
   "execution_count": 49,
   "id": "bc2487e5",
   "metadata": {},
   "outputs": [
    {
     "data": {
      "text/plain": [
       "'nBikn unrubu ijirgihi8gj uhuhu9hg8hrwoi'"
      ]
     },
     "execution_count": 49,
     "metadata": {},
     "output_type": "execute_result"
    }
   ],
   "source": [
    "ans=\"\".join(xs)\n",
    "ans"
   ]
  },
  {
   "cell_type": "code",
   "execution_count": 59,
   "id": "95cf867d",
   "metadata": {},
   "outputs": [
    {
     "name": "stdout",
     "output_type": "stream",
     "text": [
      "[2, 3, 4]\n"
     ]
    }
   ],
   "source": [
    "s=[1,2,3]\n",
    "s1=[1,1,1,5]\n",
    "r=[]\n",
    "for i in range(0,len(s)):\n",
    "    r.append(s[i]+s1[i])\n",
    "print(r)"
   ]
  },
  {
   "cell_type": "code",
   "execution_count": 65,
   "id": "4e54101c",
   "metadata": {},
   "outputs": [
    {
     "name": "stdout",
     "output_type": "stream",
     "text": [
      "[5, 7, 9]\n"
     ]
    }
   ],
   "source": [
    "s=[1,2,3]\n",
    "d=[4,5,6]\n",
    "r=[]\n",
    "for i in range(0,len(s)):\n",
    "    r.append(s[i]+d[i])\n",
    "print(r)"
   ]
  },
  {
   "cell_type": "code",
   "execution_count": 85,
   "id": "dd878cb1",
   "metadata": {},
   "outputs": [
    {
     "name": "stdout",
     "output_type": "stream",
     "text": [
      "t\n"
     ]
    }
   ],
   "source": [
    "s1=\"LIsten\"\n",
    "s2=\"silent\"\n",
    "r1=list(s1.upper())\n",
    "r2=list(s2.upper())\n",
    "r1.sort(),r2.sort()\n",
    "if (r1==r2):\n",
    "    print('t')\n",
    "else:\n",
    "    print('f')"
   ]
  },
  {
   "cell_type": "code",
   "execution_count": 86,
   "id": "4521d889",
   "metadata": {},
   "outputs": [
    {
     "name": "stdout",
     "output_type": "stream",
     "text": [
      "True\n"
     ]
    }
   ],
   "source": [
    "str1 = \"Listen\"\n",
    "str2 = \"Silent\"\n",
    "\n",
    "str1 = list(str1.upper())\n",
    "str2 = list(str2.upper())\n",
    "str1.sort(), str2.sort()\n",
    "\n",
    "if(str1 == str2):\n",
    "    print(\"True\")\n",
    "else:\n",
    "    print(\"False\")"
   ]
  },
  {
   "cell_type": "code",
   "execution_count": 87,
   "id": "deafa82b",
   "metadata": {},
   "outputs": [
    {
     "name": "stdout",
     "output_type": "stream",
     "text": [
      "t\n"
     ]
    }
   ],
   "source": [
    "s='siddhay'\n",
    "s1='hayddsi'\n",
    "s=list(s)\n",
    "s1=list(s1)\n",
    "s.sort()\n",
    "s1.sort()\n",
    "if s==s1:\n",
    "    print(\"t\")\n",
    "else:\n",
    "    print(\"f\")"
   ]
  },
  {
   "cell_type": "code",
   "execution_count": 89,
   "id": "395c5801",
   "metadata": {},
   "outputs": [
    {
     "name": "stdout",
     "output_type": "stream",
     "text": [
      "not a palendrome\n"
     ]
    }
   ],
   "source": [
    "s='madamd'\n",
    "if (s==s[::-1]):\n",
    "    print(\"its palendrome\")\n",
    "else:\n",
    "    print('not a palendrome')"
   ]
  },
  {
   "cell_type": "code",
   "execution_count": 97,
   "id": "96aada74",
   "metadata": {},
   "outputs": [
    {
     "data": {
      "text/plain": [
       "10"
      ]
     },
     "execution_count": 97,
     "metadata": {},
     "output_type": "execute_result"
    }
   ],
   "source": [
    "s=[\"ninfi iaehhif jnin niknin ninn \"]\n",
    "s=\"\".join(s)\n",
    "s=s.count(\"n\")\n",
    "s"
   ]
  },
  {
   "cell_type": "code",
   "execution_count": 114,
   "id": "8e6cbf49",
   "metadata": {},
   "outputs": [
    {
     "name": "stdout",
     "output_type": "stream",
     "text": [
      "1\n",
      "10\n",
      "3\n"
     ]
    }
   ],
   "source": [
    "import re\n",
    "sed='pythen is no 1'\n",
    "d=re.sub(\"[^0-9]\",\"\" ,sed)\n",
    "s1=re.sub(\"[^a-zA-Z]\",\"\",sed)\n",
    "sp=re.findall(\"[ \\n]\",sed)\n",
    "print(len(d))\n",
    "print(len(s1))\n",
    "print(len(sp))"
   ]
  },
  {
   "cell_type": "code",
   "execution_count": 111,
   "id": "ba4d6ccd",
   "metadata": {},
   "outputs": [
    {
     "name": "stdout",
     "output_type": "stream",
     "text": [
      "1\n",
      "10\n",
      "3\n"
     ]
    }
   ],
   "source": [
    "name = 'Python is 1'\n",
    "\n",
    "digitCount = re.sub(\"[^0-9]\", \"\", sed)\n",
    "letterCount = re.sub(\"[^a-zA-Z]\", \"\", sed)\n",
    "spaceCount = re.findall(\"[ \\n]\", sed)\n",
    "\n",
    "print(len(digitCount))\n",
    "print(len(letterCount))\n",
    "print(len(spaceCount))"
   ]
  },
  {
   "cell_type": "code",
   "execution_count": 123,
   "id": "f925a1f6",
   "metadata": {},
   "outputs": [
    {
     "name": "stdout",
     "output_type": "stream",
     "text": [
      "enter the size: 5\n",
      " *   *   *   *   *   *   \n",
      " *   *   *   *   *   \n",
      " *   *   *   *   \n",
      " *   *   *   \n",
      " *   *   \n"
     ]
    }
   ],
   "source": [
    "n=int(input(\"enter the size: \"))\n",
    "for i in range(n,0,-1):\n",
    "    for j in range(i+1,0,-1):\n",
    "        print(\" * \",end=\" \")\n",
    "    print(\" \")"
   ]
  },
  {
   "cell_type": "code",
   "execution_count": 127,
   "id": "e84dbe97",
   "metadata": {},
   "outputs": [
    {
     "name": "stdout",
     "output_type": "stream",
     "text": [
      "enter the size: 5\n",
      " *   *   *   *   *   *  \n",
      " *   *   *   *   *  \n",
      " *   *   *   *  \n",
      " *   *   *  \n",
      " *   *  \n"
     ]
    }
   ],
   "source": [
    "n=int(input(\"enter the size: \"))\n",
    "for i in range(n,0,-1):\n",
    "    for j in range(i+1,0,-1):\n",
    "        print(\" * \",end=\" \")\n",
    "    print()"
   ]
  },
  {
   "cell_type": "code",
   "execution_count": 136,
   "id": "d2c32501",
   "metadata": {},
   "outputs": [
    {
     "name": "stdout",
     "output_type": "stream",
     "text": [
      "['is this siddhay']\n"
     ]
    }
   ],
   "source": [
    "from random import shuffle\n",
    "s=[\"is this siddhay\"]\n",
    "shuffle(s)\n",
    "print(s)"
   ]
  },
  {
   "cell_type": "code",
   "execution_count": 138,
   "id": "20d7a4fb",
   "metadata": {},
   "outputs": [
    {
     "data": {
      "text/plain": [
       "'siddhay'"
      ]
     },
     "execution_count": 138,
     "metadata": {},
     "output_type": "execute_result"
    }
   ],
   "source": [
    "s=\"siddhay\"\n",
    "c=\"d\"\n",
    "s"
   ]
  },
  {
   "cell_type": "code",
   "execution_count": 139,
   "id": "04abc1aa",
   "metadata": {},
   "outputs": [
    {
     "data": {
      "text/plain": [
       "2"
      ]
     },
     "execution_count": 139,
     "metadata": {},
     "output_type": "execute_result"
    }
   ],
   "source": [
    "s.count(\"d\")"
   ]
  },
  {
   "cell_type": "code",
   "execution_count": 144,
   "id": "858f8dac",
   "metadata": {},
   "outputs": [
    {
     "name": "stdout",
     "output_type": "stream",
     "text": [
      "2\n"
     ]
    }
   ],
   "source": [
    "c1=0\n",
    "for i in range(len(s)):\n",
    "    if s[i]==c:\n",
    "        c1+=1\n",
    "print(c1)"
   ]
  },
  {
   "cell_type": "code",
   "execution_count": 147,
   "id": "e3d970db",
   "metadata": {},
   "outputs": [
    {
     "name": "stdout",
     "output_type": "stream",
     "text": [
      "2\n"
     ]
    }
   ],
   "source": [
    "s\n",
    "c\n",
    "c1=0\n",
    "for i in range(len(s)):\n",
    "    if s[i]==c:\n",
    "        c1+=1\n",
    "print(c1)"
   ]
  },
  {
   "cell_type": "code",
   "execution_count": 152,
   "id": "203675d4",
   "metadata": {},
   "outputs": [
    {
     "name": "stdout",
     "output_type": "stream",
     "text": [
      "its phyntom\n"
     ]
    }
   ],
   "source": [
    "s1=\"python\"\n",
    "s2=\"thonpy\"\n",
    "s1=sorted(s1)\n",
    "s2=sorted(s2)\n",
    "if ((s1)==(s2)):\n",
    "    print('its phyntom')\n",
    "else:\n",
    "    print('its not phytom')"
   ]
  },
  {
   "cell_type": "code",
   "execution_count": 154,
   "id": "65f2f9d2",
   "metadata": {},
   "outputs": [
    {
     "name": "stdout",
     "output_type": "stream",
     "text": [
      "is palindrome\n"
     ]
    }
   ],
   "source": [
    "s=\"madam\"\n",
    "if (s==s[::-1]):\n",
    "    print(\"is palindrome\")\n",
    "else:\n",
    "    print('is not palindrome')"
   ]
  },
  {
   "cell_type": "code",
   "execution_count": 159,
   "id": "bf33ed38",
   "metadata": {},
   "outputs": [
    {
     "name": "stdout",
     "output_type": "stream",
     "text": [
      "its a digit\n"
     ]
    }
   ],
   "source": [
    "s=\"7\"\n",
    "if s>=\"0\" and s<=\"9\":\n",
    "    print(\"its a digit\")\n",
    "else:\n",
    "    print(\"its a character\")"
   ]
  },
  {
   "cell_type": "code",
   "execution_count": 169,
   "id": "3464611e",
   "metadata": {},
   "outputs": [
    {
     "name": "stdout",
     "output_type": "stream",
     "text": [
      "jolsdgossefsaef\n"
     ]
    }
   ],
   "source": [
    "ls=\"olsdgojjefjaef\"\n",
    "r=\"j\"\n",
    "ch=\"s\"\n",
    "for i in ls:\n",
    "    if i==\"j\":\n",
    "        i=ch\n",
    "    r+=i\n",
    "print(r)\n"
   ]
  },
  {
   "cell_type": "code",
   "execution_count": 165,
   "id": "018a1d0b",
   "metadata": {},
   "outputs": [
    {
     "name": "stdout",
     "output_type": "stream",
     "text": [
      "madam\n"
     ]
    }
   ],
   "source": [
    "string = \"m d m\"\n",
    "result = '' \n",
    "ch = \"a\"\n",
    "for i in string:  \n",
    "        if i == ' ':  \n",
    "            i = ch   \n",
    "        result += i  \n",
    "print(result)"
   ]
  },
  {
   "cell_type": "code",
   "execution_count": 3,
   "id": "7cb0e91a",
   "metadata": {},
   "outputs": [
    {
     "name": "stdout",
     "output_type": "stream",
     "text": [
      "*****\n",
      "****\n",
      "***\n",
      "**\n",
      "*\n",
      "\n"
     ]
    }
   ],
   "source": [
    "n=6\n",
    "for i in range(n,0,-1):\n",
    "    print(\"*\"*(i-1))"
   ]
  },
  {
   "cell_type": "code",
   "execution_count": 4,
   "id": "741c5b93",
   "metadata": {},
   "outputs": [
    {
     "name": "stdout",
     "output_type": "stream",
     "text": [
      "Enter the size: 6\n",
      " *  *  *  *  *  *  * \n",
      " *  *  *  *  *  * \n",
      " *  *  *  *  * \n",
      " *  *  *  * \n",
      " *  *  * \n",
      " *  * \n"
     ]
    }
   ],
   "source": [
    "n = int(input(\"Enter the size: \"))\n",
    "for i in range(n, 0, -1):\n",
    "    print(\" * \" * (i + 1))"
   ]
  },
  {
   "cell_type": "code",
   "execution_count": 6,
   "id": "0228167e",
   "metadata": {},
   "outputs": [
    {
     "name": "stdout",
     "output_type": "stream",
     "text": [
      "* * * * * * * \n",
      "* * * * * * \n",
      "* * * * * \n",
      "* * * * \n",
      "* * * \n",
      "* * \n"
     ]
    }
   ],
   "source": [
    "n=6\n",
    "for i in range(n,0,-1):\n",
    "    print(\"* \"*(i+1))"
   ]
  },
  {
   "cell_type": "code",
   "execution_count": 11,
   "id": "e3f986ac",
   "metadata": {},
   "outputs": [
    {
     "name": "stdout",
     "output_type": "stream",
     "text": [
      "* * * * \n",
      "* * * \n",
      "* * \n",
      "* \n"
     ]
    }
   ],
   "source": [
    "n=4\n",
    "for i in range(n,0,-1):\n",
    "    print(\"* \"*(i+0))"
   ]
  },
  {
   "cell_type": "code",
   "execution_count": 13,
   "id": "de20f61d",
   "metadata": {},
   "outputs": [
    {
     "name": "stdout",
     "output_type": "stream",
     "text": [
      "* \n",
      "* * \n",
      "* * * \n",
      "* * * * \n"
     ]
    }
   ],
   "source": [
    "for i in range(0,n,1):\n",
    "    print('* '*(i+1))"
   ]
  },
  {
   "cell_type": "code",
   "execution_count": 14,
   "id": "e3319ddd",
   "metadata": {},
   "outputs": [
    {
     "name": "stdout",
     "output_type": "stream",
     "text": [
      " * \n",
      " *  * \n",
      " *  *  * \n",
      " *  *  *  * \n"
     ]
    }
   ],
   "source": [
    "for i in range(0,n,1):\n",
    "    print(\" * \"*(i+1))"
   ]
  },
  {
   "cell_type": "code",
   "execution_count": 17,
   "id": "c30e06ef",
   "metadata": {},
   "outputs": [
    {
     "name": "stdout",
     "output_type": "stream",
     "text": [
      "Fibonasi series\n",
      "0\n",
      "1\n",
      "1\n",
      "2\n",
      "3\n",
      "5\n",
      "8\n",
      "13\n",
      "21\n",
      "34\n"
     ]
    }
   ],
   "source": [
    "a=0\n",
    "b=1\n",
    "n=10\n",
    "print(\"Fibonasi series\")\n",
    "print(a)\n",
    "print(b)\n",
    "for i in range(2,n):\n",
    "    c=a+b\n",
    "    a=b\n",
    "    b=c\n",
    "    print(c)"
   ]
  },
  {
   "cell_type": "code",
   "execution_count": 20,
   "id": "589c61d3",
   "metadata": {},
   "outputs": [
    {
     "name": "stdout",
     "output_type": "stream",
     "text": [
      "not palandrome\n"
     ]
    }
   ],
   "source": [
    "s=\"madam1\"\n",
    "s1=s[::-1]\n",
    "if s==s1:\n",
    "    print(\"It is palandrome\")\n",
    "else:\n",
    "    print(\"not palandrome\")"
   ]
  },
  {
   "cell_type": "code",
   "execution_count": 3,
   "id": "111b233d",
   "metadata": {},
   "outputs": [
    {
     "name": "stdout",
     "output_type": "stream",
     "text": [
      "120\n"
     ]
    }
   ],
   "source": [
    "def fun(n):\n",
    "    if n==0:\n",
    "        return 1\n",
    "    else:\n",
    "        return n*fun(n-1)\n",
    "    \n",
    "s=fun(5)\n",
    "print(s)"
   ]
  },
  {
   "cell_type": "code",
   "execution_count": 4,
   "id": "53271970",
   "metadata": {},
   "outputs": [
    {
     "data": {
      "text/plain": [
       "120"
      ]
     },
     "execution_count": 4,
     "metadata": {},
     "output_type": "execute_result"
    }
   ],
   "source": [
    "def fun(n):\n",
    "    if n==0:\n",
    "        return 1\n",
    "    else:\n",
    "        return n*fun(n-1)\n",
    "    \n",
    "s=fun(5)\n",
    "s"
   ]
  },
  {
   "cell_type": "code",
   "execution_count": 11,
   "id": "a557c934",
   "metadata": {},
   "outputs": [
    {
     "name": "stdout",
     "output_type": "stream",
     "text": [
      "Enter the number : 5\n",
      "120\n"
     ]
    }
   ],
   "source": [
    "n=int(input(\"Enter the number : \"))\n",
    "result=1\n",
    "for i in range(1,n+1):\n",
    "    result *=i\n",
    "    \n",
    "print(result)\n"
   ]
  },
  {
   "cell_type": "code",
   "execution_count": 12,
   "id": "b3988793",
   "metadata": {},
   "outputs": [
    {
     "name": "stdout",
     "output_type": "stream",
     "text": [
      "120\n"
     ]
    }
   ],
   "source": [
    "n=5        # factorial\n",
    "r=1\n",
    "for i in range(1,n+1):\n",
    "    r*=i\n",
    "print(r)"
   ]
  },
  {
   "cell_type": "code",
   "execution_count": 13,
   "id": "3c98b11f",
   "metadata": {},
   "outputs": [
    {
     "name": "stdout",
     "output_type": "stream",
     "text": [
      "[1, 2, 3, 4, 5]\n"
     ]
    }
   ],
   "source": [
    "ls=[1,1,2,2,2,3,4,5,5,5]\n",
    "ls1=[]\n",
    "for i in ls:\n",
    "    if i not in ls1:\n",
    "        ls1.append(i)\n",
    "print(ls1)"
   ]
  },
  {
   "cell_type": "code",
   "execution_count": 18,
   "id": "9babc1c4",
   "metadata": {},
   "outputs": [
    {
     "data": {
      "text/plain": [
       "120"
      ]
     },
     "execution_count": 18,
     "metadata": {},
     "output_type": "execute_result"
    }
   ],
   "source": [
    "def fun(n):\n",
    "    if n==0:\n",
    "        return 1\n",
    "    else:\n",
    "        return n*fun(n-1)\n",
    "s=fun(5)\n",
    "s"
   ]
  },
  {
   "cell_type": "code",
   "execution_count": 19,
   "id": "5767381d",
   "metadata": {},
   "outputs": [
    {
     "data": {
      "text/plain": [
       "120"
      ]
     },
     "execution_count": 19,
     "metadata": {},
     "output_type": "execute_result"
    }
   ],
   "source": [
    "def fun(n):\n",
    "    if n==0:\n",
    "        return 1\n",
    "    else:\n",
    "        return n*fun(n-1)\n",
    "s=fun(5)\n",
    "s"
   ]
  },
  {
   "cell_type": "code",
   "execution_count": 22,
   "id": "e1124986",
   "metadata": {},
   "outputs": [
    {
     "data": {
      "text/plain": [
       "[0, 4, 16, 36, 64, 100]"
      ]
     },
     "execution_count": 22,
     "metadata": {},
     "output_type": "execute_result"
    }
   ],
   "source": [
    "sq=[x**2 for x in range(0,11) if x%2==0]\n",
    "sq"
   ]
  },
  {
   "cell_type": "code",
   "execution_count": 24,
   "id": "848150a8",
   "metadata": {},
   "outputs": [
    {
     "data": {
      "text/plain": [
       "[4, 16, 36, 64, 100]"
      ]
     },
     "execution_count": 24,
     "metadata": {},
     "output_type": "execute_result"
    }
   ],
   "source": [
    "sq=[x**2 for x in range(1,11) if x%2==0]\n",
    "sq"
   ]
  },
  {
   "cell_type": "code",
   "execution_count": 27,
   "id": "e825dcbf",
   "metadata": {},
   "outputs": [
    {
     "name": "stdout",
     "output_type": "stream",
     "text": [
      "25\n"
     ]
    }
   ],
   "source": [
    "s=lambda x: x**2\n",
    "print(s(5))"
   ]
  },
  {
   "cell_type": "code",
   "execution_count": 28,
   "id": "9efd1a34",
   "metadata": {},
   "outputs": [
    {
     "name": "stdout",
     "output_type": "stream",
     "text": [
      "125\n"
     ]
    }
   ],
   "source": [
    "s=lambda x:x**3\n",
    "print(s(5))"
   ]
  },
  {
   "cell_type": "code",
   "execution_count": 33,
   "id": "5da171d6",
   "metadata": {},
   "outputs": [
    {
     "name": "stdout",
     "output_type": "stream",
     "text": [
      "[2, 4, 6, 8, 10]\n"
     ]
    }
   ],
   "source": [
    "n=[1,2,3,4,5]\n",
    "s=map(lambda x: x*2,n)\n",
    "print(list(s))"
   ]
  },
  {
   "cell_type": "code",
   "execution_count": 32,
   "id": "06273ce6",
   "metadata": {},
   "outputs": [
    {
     "name": "stdout",
     "output_type": "stream",
     "text": [
      "[2, 4, 6, 8, 10]\n"
     ]
    }
   ],
   "source": [
    "# Double each number in a list using map()\n",
    "numbers = [1, 2, 3, 4, 5]\n",
    "doubled_numbers = map(lambda x: x * 2, numbers)\n",
    "print(list(doubled_numbers))  # Output: [2, 4, 6, 8, 10]\n"
   ]
  },
  {
   "cell_type": "code",
   "execution_count": 35,
   "id": "c98af08e",
   "metadata": {},
   "outputs": [
    {
     "name": "stdout",
     "output_type": "stream",
     "text": [
      "[2, 4]\n"
     ]
    }
   ],
   "source": [
    "s=filter(lambda x: x%2==0,n)\n",
    "print(list(s))"
   ]
  },
  {
   "cell_type": "code",
   "execution_count": 39,
   "id": "6575466d",
   "metadata": {},
   "outputs": [
    {
     "name": "stdout",
     "output_type": "stream",
     "text": [
      "15\n"
     ]
    }
   ],
   "source": [
    "from functools import reduce\n",
    "s=reduce(lambda x,y:x+y,n)\n",
    "print(s)"
   ]
  },
  {
   "cell_type": "code",
   "execution_count": null,
   "id": "6eb3d687",
   "metadata": {},
   "outputs": [],
   "source": []
  }
 ],
 "metadata": {
  "kernelspec": {
   "display_name": "Python 3 (ipykernel)",
   "language": "python",
   "name": "python3"
  },
  "language_info": {
   "codemirror_mode": {
    "name": "ipython",
    "version": 3
   },
   "file_extension": ".py",
   "mimetype": "text/x-python",
   "name": "python",
   "nbconvert_exporter": "python",
   "pygments_lexer": "ipython3",
   "version": "3.11.5"
  }
 },
 "nbformat": 4,
 "nbformat_minor": 5
}
